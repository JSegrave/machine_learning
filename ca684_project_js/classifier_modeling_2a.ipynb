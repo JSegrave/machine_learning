{
 "metadata": {
  "name": "",
  "signature": "sha256:7e585d1e9299b108c7c774e9d1c2b43ddc55144529f631c0053686d958add933"
 },
 "nbformat": 3,
 "nbformat_minor": 0,
 "worksheets": [
  {
   "cells": [
    {
     "cell_type": "heading",
     "level": 1,
     "metadata": {},
     "source": [
      "Classifier Modeling 1: K-Nearest Neighbour"
     ]
    },
    {
     "cell_type": "heading",
     "level": 1,
     "metadata": {},
     "source": [
      "Review TODOs:"
     ]
    },
    {
     "cell_type": "markdown",
     "metadata": {},
     "source": [
      "* Review each section & make sure you've actually explained what the section is trying to achieve & not just jumped into it\n",
      "* remove %time \n",
      "* replace our scoring measure - use f3 rather than recall"
     ]
    },
    {
     "cell_type": "code",
     "collapsed": false,
     "input": [
      "# special IPython command to prepare the notebook for matplotlib\n",
      "%matplotlib inline \n",
      "\n",
      "import numpy as np\n",
      "import pandas\n",
      "from matplotlib import pyplot\n",
      "from matplotlib import pylab\n",
      "from sklearn.decomposition import PCA\n",
      "from sklearn import preprocessing\n",
      "from sklearn.lda import LDA\n",
      "from sklearn.cross_validation import train_test_split\n",
      "import scipy.stats as stats"
     ],
     "language": "python",
     "metadata": {},
     "outputs": [],
     "prompt_number": 239
    },
    {
     "cell_type": "code",
     "collapsed": false,
     "input": [
      "dataset = pandas.read_csv(\"./dataset_v5.csv\")\n",
      "print 'Total samples & features in original dataset: ' + str(dataset.shape)\n",
      "\n",
      "target_label = 'Lbl: Poor Hosp Rating 1SD'\n",
      "#target_label = 'Lbl: Poor ER Rating 1SD'\n",
      "#target_label = 'Lbl: Poor Pain Rating 1SD'\n",
      "#target_label = 'Lbl: Poor Drugs Rating 1SD'\n",
      "\n",
      "# TODO: remove\n",
      "#dataset = dataset[dataset[target_label] != 1].index # works... now how to select nulls?\n",
      "#dataset = dataset[dataset[target_label].notnull()].index # works... now how to select all the fields, not just this one?\n",
      "#dataset = dataset[dataset[target_label].notnull()] # Works :-)\n",
      "\n",
      "# Strip out any rows where there is no label to train or test with\n",
      "dataset = dataset[dataset[target_label].notnull()]\n",
      "\n",
      "# keep the agency and behavior fields we're interested in (exclude things like patient outcomes, phone numbers, addresses, etc)\n",
      "samples = dataset[[\n",
      "#    'Offers Nursing Care Services',\n",
      "#    'Offers Physical Therapy Services',\n",
      "#    'Offers Occupational Therapy Services',\n",
      "#    'Offers Speech Pathology Services',\n",
      "#    'Offers Medical Social Services',\n",
      "#    'Offers Home Health Aide Services',\n",
      "\n",
      "    'How often the home health team began their patients care in a timely manner',\n",
      "    'How often the home health team taught patients (or their family caregivers) about their drugs',\n",
      "    'How often the home health team checked patients risk of falling',\n",
      "    'How often the home health team checked patients for depression',\n",
      "    'How often the home health team made sure that their patients have received a flu shot for the current flu season.',\n",
      "    'How often the home health team made sure that their patients have received a pneumococcal vaccine (pneumonia shot).',\n",
      "    'With diabetes - how often the home health team got doctors orders and gave foot care and taught patients about foot care',\n",
      "    'How often the home health team checked patients for pain',\n",
      "    'How often the home health team treated their patients pain',\n",
      "    'How often the home health team took doctor-ordered action to prevent pressure sores (bed sores)',\n",
      "    'How often the home health team checked patients for the risk of developing pressure sores (bed sores)',\n",
      "\n",
      "#    'Count of non-reported behaviours',\n",
      "#    'Count of non-reported outcomes',\n",
      "#    'Non-trad Chronic'\n",
      "]]\n",
      "\n",
      "# (1) reshape the label matrix to be flat\n",
      "# (2) change the boolean {false, true} values into {0,1} as sklearn modules expect\n",
      "labels = np.reshape(dataset[target_label].astype(int), -1)\n",
      "\n",
      "print 'Target label: [' + target_label + ']'\n",
      "print 'There are %1i samples in the dataset (having eliminated samples where the target label was null).' % (dataset.shape[0])\n",
      "print 'There are %1s poorly performing agencies identified in the dataset by the label \\'%2s\\'.' % ((sum(p == 1 for p in labels)), target_label)\n"
     ],
     "language": "python",
     "metadata": {},
     "outputs": [
      {
       "output_type": "stream",
       "stream": "stdout",
       "text": [
        "Total samples & features in original dataset: (10106, 44)\n",
        "Target label: [Lbl: Poor Hosp Rating 1SD]\n",
        "There are 8965 samples in the dataset (having eliminated samples where the target label was null).\n",
        "There are 1099 poorly performing agencies identified in the dataset by the label 'Lbl: Poor Hosp Rating 1SD'."
       ]
      },
      {
       "output_type": "stream",
       "stream": "stdout",
       "text": [
        "\n"
       ]
      }
     ],
     "prompt_number": 240
    },
    {
     "cell_type": "code",
     "collapsed": false,
     "input": [],
     "language": "python",
     "metadata": {},
     "outputs": [],
     "prompt_number": 240
    },
    {
     "cell_type": "heading",
     "level": 3,
     "metadata": {},
     "source": [
      "Plotting Functions (for use in later sections)"
     ]
    },
    {
     "cell_type": "markdown",
     "metadata": {},
     "source": [
      "_General functions for graphs throughout this notebook_"
     ]
    },
    {
     "cell_type": "code",
     "collapsed": false,
     "input": [
      "# special IPython command to prepare the notebook for matplotlib\n",
      "%matplotlib inline\n",
      "from matplotlib import pyplot\n",
      "from matplotlib import pylab\n",
      "\n",
      "data_labels, markers, colours, alphas = [0, 1], ['o', 'o'], ['b', 'r'], [0.3, 0.6]\n",
      "\n",
      "def scatterplot(xaxis, yaxis, y, title = '', xlabel = 'X', ylabel = 'Y'):\n",
      "    for label, marker, colour, a in zip(data_labels, markers, colours, alphas):\n",
      "        pyplot.scatter(xaxis[y == label], yaxis[y == label], c=colour, s = 30, cmap=plt.cm.bwr, marker=marker, alpha=a, edgecolors='none')\n",
      "    pyplot.xlabel(xlabel)\n",
      "    pyplot.ylabel(ylabel)\n",
      "    pyplot.title(title)\n",
      "    pyplot.legend(loc='best')\n",
      "    pyplot.show()\n",
      "\n",
      "# Attributed to \"Building Machine Learning Systems with Python\", 2013 Richert, W. and Coelho, L., Packt Publishing\n",
      "def plot_precision_recall_curve(auc_score, precision, recall):\n",
      "    pylab.clf()\n",
      "    pylab.figure(num=None, figsize=(5, 4))\n",
      "    pylab.grid(True)\n",
      "    pylab.fill_between(recall, precision, alpha=0.5)\n",
      "    pylab.plot(recall, precision, lw=1)\n",
      "    pylab.xlim([0.0, 1.0])\n",
      "    pylab.ylim([0.0, 1.0])\n",
      "    pylab.xlabel('Recall')\n",
      "    pylab.ylabel('Precision')\n",
      "    pylab.title('P/R curve (AUC=%0.2f)' % auc_score)\n",
      "\n"
     ],
     "language": "python",
     "metadata": {},
     "outputs": [],
     "prompt_number": 1
    },
    {
     "cell_type": "heading",
     "level": 2,
     "metadata": {},
     "source": [
      "First Classifier - the Baseline"
     ]
    },
    {
     "cell_type": "markdown",
     "metadata": {},
     "source": [
      "It seems fairly clear from the data analysis that a linear classifier is unlikely to work, so we'll start with a k-nearest neighbour classifier for our first baseline.\n",
      "\n",
      "We'll start with the default setting and see how that fares, using stratified k-fold cross validation.  Once we have a baseline f-score to work from, we will perform a grid search to see if we can improve on that baseline score by finding better hyperparameters.  Finally, once we have found good hyperparameters for this classification algorithm, we will examine the learning curve for that classifier to determine if we are under-fitting or over-fitting the data."
     ]
    },
    {
     "cell_type": "heading",
     "level": 3,
     "metadata": {},
     "source": [
      "A Note on Scaling"
     ]
    },
    {
     "cell_type": "markdown",
     "metadata": {},
     "source": [
      "Many machine learning algorithms are not scale-invariant, so we should pre-process the features to normalise them. This will ensure they are zero-centered with variance in the same order (reference: scikit-learn [Preprocessing](http://scikit-learn.org/stable/modules/preprocessing.html#preprocessing))."
     ]
    },
    {
     "cell_type": "code",
     "collapsed": false,
     "input": [
      "# n.b. this switches samples from a pandas DataFrame to a NumPy array\n",
      "samples = preprocessing.normalize(samples.astype(float))\n",
      "samples = preprocessing.scale(samples)"
     ],
     "language": "python",
     "metadata": {},
     "outputs": [],
     "prompt_number": 242
    },
    {
     "cell_type": "heading",
     "level": 2,
     "metadata": {},
     "source": [
      "Cross-Validation on K-Nearest Neighbour"
     ]
    },
    {
     "cell_type": "markdown",
     "metadata": {},
     "source": [
      "To ensure that we correctly interpret the results we get from our classifier, we will run the classifier several times against different samples or 'folds' of the data. This is a (10-fold) cross-validation of our classifier and scikit learn provides several means of doing it.\n",
      "\n",
      "As the classes in our dataset are already quite unbalanced, it's very important during cross validation that the imbalance does not end up being extreme in one of the samples (e.g. no samples at all containing poorly performing agencies).  To ensure this does not happen, we will use a stratified cross validation (TODO: pick either StratifiedKFold or StratifiedShuffleSplit) to ensure that each training & test set roughly retains the same proportion of labels as the complete set.  (TODO ref http://scikit-learn.org/stable/modules/generated/sklearn.cross_validation.StratifiedKFold.html). (TODO ref: \"Building Machine Learning Systems with Python\" p40)"
     ]
    },
    {
     "cell_type": "code",
     "collapsed": false,
     "input": [
      "from sklearn.cross_validation import StratifiedShuffleSplit\n",
      "from sklearn.cross_validation import StratifiedKFold\n",
      "from sklearn.metrics import precision_recall_curve, auc\n",
      "import sklearn.metrics as metrics\n",
      "from sklearn import neighbors\n",
      "from sklearn.naive_bayes import GaussianNB\n",
      "from sklearn.naive_bayes import MultinomialNB\n",
      "from sklearn.svm import SVC\n",
      "\n",
      "#scoring = 'precision'\n",
      "#beta = 1\n",
      "beta=0.75\n",
      "scoring = make_scorer(fbeta_score, beta=beta) # favour precision over recall, but use both\n",
      "\n",
      "def test_model(clf, samples_test, labels_test, print_scores = False):\n",
      "        predictions = clf.predict(samples_test)\n",
      "        precision, recall, f_score, support = metrics.precision_recall_fscore_support(labels_test, predictions, beta=beta)\n",
      "        area = auc(recall, precision)        \n",
      "        if print_scores:\n",
      "            print(\"f_score:\\t\\t%.5f\"%(f_score[1]))       # just capture the score for our minority target label, not the majority label\n",
      "            print(\"recall:\\t\\t\\t%.5f\"%(recall[1]))\n",
      "            print(\"precision:\\t\\t%.5f\"%(precision[1]))\n",
      "            #print(\"AUC:\\t\\t%.5f\"%(area))\n",
      "        return precision[1], recall[1], f_score[1], area # just capture the score for our minority target label, not the majority label\n",
      "\n",
      "def train_model(clf_factory, samples, labels, folds = 5, print_scores = False):\n",
      "    samples_df = pandas.DataFrame(samples) # more familiar working with Pandas dataframes\n",
      "    cross_validation = StratifiedKFold(labels, n_folds=folds) # Use Stratified types here due to the imbalance in the labels\n",
      "    precisions, recalls, f_scores, AUCs = [], [], [], []\n",
      "    for train, test in cross_validation:\n",
      "        samples_train, labels_train = samples_df.iloc[train], labels[train]\n",
      "        samples_test, labels_test = samples_df.iloc[test], labels[test]\n",
      "        clf = clf_factory()\n",
      "        %time clf.fit(samples_train, labels_train)\n",
      "        precision, recall, f_score, area = test_model(clf, samples_test, labels_test, print_scores)\n",
      "        precisions.append(precision) \n",
      "        recalls.append(recall)\n",
      "        AUCs.append(area)\n",
      "        f_scores.append(f_score)     \n",
      "    print(\"f_score:\\t\\tMean=%.5f\\t\\tStddev=%.5f\"%(np.mean(f_scores), np.std(f_scores)))\n",
      "    print(\"recall:\\t\\t\\tMean=%.5f\\t\\tStddev=%.5f\"%(np.mean(recalls), np.std(recalls)))\n",
      "    print(\"precision:\\t\\tMean=%.5f\\t\\tStddev=%.5f\"%(np.mean(precisions), np.std(precisions)))\n",
      "    # print(\"AUC:\\t\\tMean=%.5f\\t\\tStddev=%.5f\"%(np.mean(AUCs), np.std(AUCs)))\n"
     ],
     "language": "python",
     "metadata": {},
     "outputs": [],
     "prompt_number": 243
    },
    {
     "cell_type": "heading",
     "level": 6,
     "metadata": {},
     "source": [
      "Cross-Validation on K-Nearest Neighbour - Results"
     ]
    },
    {
     "cell_type": "markdown",
     "metadata": {},
     "source": [
      "We now have a baseline to work from - it's the worst possible result, our classifier has zero recall with zero precision!  This is very poor start, but hopefully we will be able to improve on this by performing a grid search to find better hyperparameters for this classification algorithm."
     ]
    },
    {
     "cell_type": "heading",
     "level": 2,
     "metadata": {},
     "source": [
      "Grid Search on K-Nearest Neighbour"
     ]
    },
    {
     "cell_type": "markdown",
     "metadata": {},
     "source": [
      "TODO - split train & test! Explain Grid Search\n",
      "\n",
      "TODO: If time, switch the scoring to f-beta 0.33"
     ]
    },
    {
     "cell_type": "code",
     "collapsed": false,
     "input": [
      "# put test data aside\n",
      "samples_train, samples_test, labels_train, labels_test = train_test_split(\n",
      "    samples,labels, test_size=0.5, random_state=2)\n",
      "\n",
      "print 'Samples & features in the training set: ' + str(samples_train.shape)\n",
      "print 'Number of poor outcomes in the training dataset: ' + str(sum(p == 1 for p in labels_train))\n",
      "\n",
      "print 'Samples & features in the test set: ' + str(samples_test.shape)\n",
      "print 'Number of poor outcomes in the test dataset: ' + str(sum(p == 1 for p in labels_test))"
     ],
     "language": "python",
     "metadata": {},
     "outputs": [
      {
       "output_type": "stream",
       "stream": "stdout",
       "text": [
        "Samples & features in the training set: (4482L, 20L)\n",
        "Number of poor outcomes in the training dataset: 537"
       ]
      },
      {
       "output_type": "stream",
       "stream": "stdout",
       "text": [
        "\n",
        "Samples & features in the test set: (4483L, 20L)\n",
        "Number of poor outcomes in the test dataset: 562\n"
       ]
      }
     ],
     "prompt_number": 244
    },
    {
     "cell_type": "code",
     "collapsed": false,
     "input": [
      "from sklearn.grid_search import GridSearchCV\n",
      "from sklearn.metrics import fbeta_score, make_scorer\n",
      "\n",
      "def grid_search(clf_factory, grid_hyperparameters, samples, labels, folds = 5, scoring=scoring):\n",
      "    cross_val = StratifiedKFold(labels, n_folds=folds) # Use Stratified types here due to the imbalance in the labels\n",
      "    grid_search_with_cross_val = GridSearchCV(clf_factory, grid_hyperparameters, scoring=scoring, cv=cross_val, n_jobs=-1)\n",
      "    %time grid_search_with_cross_val.fit(samples, labels)\n",
      "    best_estimator = grid_search_with_cross_val.best_estimator_\n",
      "    print 'Best combination of hyperparameters for this classifier:'\n",
      "    print best_estimator\n",
      "    return best_estimator\n"
     ],
     "language": "python",
     "metadata": {},
     "outputs": [],
     "prompt_number": 245
    },
    {
     "cell_type": "code",
     "collapsed": false,
     "input": [],
     "language": "python",
     "metadata": {},
     "outputs": [],
     "prompt_number": 245
    },
    {
     "cell_type": "markdown",
     "metadata": {},
     "source": [
      "Now that we've found the best estimator on the training set, let's test it against our testing set"
     ]
    },
    {
     "cell_type": "code",
     "collapsed": false,
     "input": [],
     "language": "python",
     "metadata": {},
     "outputs": [],
     "prompt_number": 245
    },
    {
     "cell_type": "heading",
     "level": 6,
     "metadata": {},
     "source": [
      "Grid Search on K-Nearest Neighbour - Results"
     ]
    },
    {
     "cell_type": "markdown",
     "metadata": {},
     "source": [
      "TODO - unfortunately, we have made negligible progress -  grid search has identified that the best precision score we can get with KNN is (TODO check hasn't changed) 4% and with minuscule recall - so it will find a tiny number of positives and even then, it will almost always get them wrong.\n",
      "\n",
      "As noted before, even a small precision value like 20% would produce good results as long as recall is sufficiently high (say 80% or above).  It's time to try another classifier..."
     ]
    },
    {
     "cell_type": "heading",
     "level": 2,
     "metadata": {},
     "source": [
      "Learning Curve"
     ]
    },
    {
     "cell_type": "markdown",
     "metadata": {},
     "source": [
      "TODO: Finally, examine the learning curve for this optimised classifier to determine if we are under-fitting or over-fitting the data.  Clearly, this model is heavily biased (TODO: explain why via the graph - see \"This is a typical bias/variance plot\" [here](http://www.astro.washington.edu/users/vanderplas/Astr599/notebooks/18_IntermediateSklearn)). time to try another a classifier...\n",
      "\n",
      "TODO: If time, switch the scoring to f-beta 0.33"
     ]
    },
    {
     "cell_type": "code",
     "collapsed": false,
     "input": [],
     "language": "python",
     "metadata": {},
     "outputs": [],
     "prompt_number": 245
    },
    {
     "cell_type": "heading",
     "level": 2,
     "metadata": {},
     "source": [
      "On to the next Classifier - Support Vector Machine"
     ]
    },
    {
     "cell_type": "markdown",
     "metadata": {},
     "source": [
      "TODO: Have to do this"
     ]
    },
    {
     "cell_type": "heading",
     "level": 2,
     "metadata": {},
     "source": [
      "Decision Tree"
     ]
    },
    {
     "cell_type": "code",
     "collapsed": false,
     "input": [],
     "language": "python",
     "metadata": {},
     "outputs": [],
     "prompt_number": 245
    },
    {
     "cell_type": "code",
     "collapsed": false,
     "input": [
      "from sklearn.tree import DecisionTreeClassifier\n",
      "\n",
      "def clf_factory(): return DecisionTreeClassifier(random_state=0)\n",
      "\n",
      "train_model(clf_factory, samples, labels, 5)"
     ],
     "language": "python",
     "metadata": {},
     "outputs": [
      {
       "output_type": "stream",
       "stream": "stdout",
       "text": [
        "Wall time: 419 ms\n",
        "Wall time: 1.14 s"
       ]
      },
      {
       "output_type": "stream",
       "stream": "stdout",
       "text": [
        "\n",
        "Wall time: 690 ms"
       ]
      },
      {
       "output_type": "stream",
       "stream": "stdout",
       "text": [
        "\n",
        "Wall time: 612 ms"
       ]
      },
      {
       "output_type": "stream",
       "stream": "stdout",
       "text": [
        "\n",
        "Wall time: 610 ms"
       ]
      },
      {
       "output_type": "stream",
       "stream": "stdout",
       "text": [
        "\n",
        "f_score:\t\tMean=0.17704\t\tStddev=0.01500\n",
        "recall:\t\t\tMean=0.20294\t\tStddev=0.02561\n",
        "precision:\t\tMean=0.16573\t\tStddev=0.01334\n"
       ]
      }
     ],
     "prompt_number": 246
    },
    {
     "cell_type": "code",
     "collapsed": false,
     "input": [
      "grid_hyperparameters = [{\"max_depth\": range(2, 6)}]\n",
      "#grid_hyperparameters = [{\"max_depth\": range(2, 6), 'class_weight': ['auto', None]}] # can't use auto, as it's a scikit .16 feature\n",
      "\n",
      "best_clf = grid_search(clf_factory(), grid_hyperparameters, samples_train, labels_train, 5)\n",
      "\n",
      "precision, recall, f_score, area = test_model(best_clf, samples_test, labels_test, True)\n",
      "\n",
      "# plot_learning_curve() function comes from http://scikit-learn.org/stable/auto_examples/model_selection/plot_learning_curve.html#example-model-selection-plot-learning-curve-py\n",
      "%run plot_learning_curve.py\n",
      "from sklearn.cross_validation import StratifiedShuffleSplit\n",
      "cv = StratifiedShuffleSplit(labels, n_iter=10, test_size=0.3, random_state=0)\n",
      "%time plot_learning_curve(best_clf, 'Best XXXXX', samples, labels, ylim=(0, 1), cv=cv, n_jobs=-1, scoring=scoring)\n"
     ],
     "language": "python",
     "metadata": {},
     "outputs": [
      {
       "output_type": "stream",
       "stream": "stdout",
       "text": [
        "Wall time: 2.65 s\n",
        "Best combination of hyperparameters for this classifier:\n",
        "DecisionTreeClassifier(compute_importances=None, criterion='gini',\n",
        "            max_depth=5, max_features=None, max_leaf_nodes=None,\n",
        "            min_density=None, min_samples_leaf=1, min_samples_split=2,\n",
        "            random_state=0, splitter='best')\n",
        "f_score:\t\t0.05656\n",
        "recall:\t\t\t0.02313\n",
        "precision:\t\t0.30233\n"
       ]
      },
      {
       "metadata": {},
       "output_type": "display_data",
       "png": "[encoded data removed]",
       "text": [
        "<matplotlib.figure.Figure at 0x2578048>"
       ]
      },
      {
       "output_type": "stream",
       "stream": "stdout",
       "text": [
        "Wall time: 4.82 s\n"
       ]
      }
     ],
     "prompt_number": 247
    },
    {
     "cell_type": "heading",
     "level": 2,
     "metadata": {},
     "source": [
      "AdaBoost"
     ]
    },
    {
     "cell_type": "code",
     "collapsed": false,
     "input": [
      "#from sklearn.tree import DecisionTreeClassifier\n",
      "#from sklearn.ensemble import AdaBoostClassifier\n",
      "#\n",
      "#def clf_factory(): return AdaBoostClassifier(DecisionTreeClassifier(max_depth=7),\n",
      "#                         algorithm=\"SAMME\",\n",
      "#                         n_estimators=150)\n",
      "#\n",
      "#train_model(clf_factory, samples, labels, 5, True) # much more expensive, can only afford 5 folds"
     ],
     "language": "python",
     "metadata": {},
     "outputs": [],
     "prompt_number": 248
    },
    {
     "cell_type": "code",
     "collapsed": false,
     "input": [
      "#grid_hyperparameters = {'n_estimators': range(1, 3),\n",
      "#                  'base_estimator__max_depth': range(1, 3),\n",
      "#                  'algorithm': ('SAMME', 'SAMME.R')}\n",
      "#grid_hyperparameters = {'n_estimators': range(100, 200, 300)}\n",
      "#\n",
      "#best_clf = grid_search(clf_factory(), grid_hyperparameters, samples_train, labels_train), 5)\n",
      "#\n",
      "#precision, recall, f_score, area = test_model(best_clf, samples_test, labels_test, True)\n",
      "#\n",
      "## plot_learning_curve() function comes from http://scikit-learn.org/stable/auto_examples/model_selection/plot_learning_curve.html#example-model-selection-plot-learning-curve-py\n",
      "#%run plot_learning_curve.py\n",
      "#from sklearn.cross_validation import StratifiedShuffleSplit\n",
      "#cv = StratifiedShuffleSplit(labels, n_iter=5, test_size=0.3, random_state=0)\n",
      "#%time plot_learning_curve(best_clf, 'Best XXXXX', samples, labels, ylim=(0, 1), cv=cv, n_jobs=-1, scoring=scoring)"
     ],
     "language": "python",
     "metadata": {},
     "outputs": [],
     "prompt_number": 249
    },
    {
     "cell_type": "heading",
     "level": 2,
     "metadata": {},
     "source": [
      "Logistic Regression"
     ]
    },
    {
     "cell_type": "code",
     "collapsed": false,
     "input": [
      "from sklearn import linear_model\n",
      "\n",
      "def clf_factory(): return linear_model.LogisticRegression(C=1e5, class_weight='auto')\n",
      "\n",
      "train_model(clf_factory, samples, labels, 10, True)\n"
     ],
     "language": "python",
     "metadata": {},
     "outputs": [
      {
       "output_type": "stream",
       "stream": "stdout",
       "text": [
        "Wall time: 127 ms\n",
        "f_score:\t\t0.23585\n",
        "recall:\t\t\t0.53636\n",
        "precision:\t\t0.17933\n",
        "Wall time: 70 ms"
       ]
      },
      {
       "output_type": "stream",
       "stream": "stdout",
       "text": [
        "\n",
        "f_score:\t\t0.24939\n",
        "recall:\t\t\t0.37273\n",
        "precision:\t\t0.21026\n",
        "Wall time: 73 ms"
       ]
      },
      {
       "output_type": "stream",
       "stream": "stdout",
       "text": [
        "\n",
        "f_score:\t\t0.20745\n",
        "recall:\t\t\t0.39091\n",
        "precision:\t\t0.16412\n",
        "Wall time: 72 ms"
       ]
      },
      {
       "output_type": "stream",
       "stream": "stdout",
       "text": [
        "\n",
        "f_score:\t\t0.17667\n",
        "recall:\t\t\t0.59091\n",
        "precision:\t\t0.12671\n",
        "Wall time: 76 ms"
       ]
      },
      {
       "output_type": "stream",
       "stream": "stdout",
       "text": [
        "\n",
        "f_score:\t\t0.21939\n",
        "recall:\t\t\t0.36364\n",
        "precision:\t\t0.17937\n",
        "Wall time: 71 ms"
       ]
      },
      {
       "output_type": "stream",
       "stream": "stdout",
       "text": [
        "\n",
        "f_score:\t\t0.23462\n",
        "recall:\t\t\t0.59091\n",
        "precision:\t\t0.17520\n",
        "Wall time: 67 ms"
       ]
      },
      {
       "output_type": "stream",
       "stream": "stdout",
       "text": [
        "\n",
        "f_score:\t\t0.23126\n",
        "recall:\t\t\t0.52727\n",
        "precision:\t\t0.17576\n",
        "Wall time: 52 ms"
       ]
      },
      {
       "output_type": "stream",
       "stream": "stdout",
       "text": [
        "\n",
        "f_score:\t\t0.20507\n",
        "recall:\t\t\t0.40909\n",
        "precision:\t\t0.16014\n",
        "Wall time: 51 ms"
       ]
      },
      {
       "output_type": "stream",
       "stream": "stdout",
       "text": [
        "\n",
        "f_score:\t\t0.21088\n",
        "recall:\t\t\t0.46364\n",
        "precision:\t\t0.16139\n",
        "Wall time: 53 ms"
       ]
      },
      {
       "output_type": "stream",
       "stream": "stdout",
       "text": [
        "\n",
        "f_score:\t\t0.20450\n",
        "recall:\t\t\t0.47706\n",
        "precision:\t\t0.15476\n",
        "f_score:\t\tMean=0.21751\t\tStddev=0.01994\n",
        "recall:\t\t\tMean=0.47225\t\tStddev=0.08228\n",
        "precision:\t\tMean=0.16870\t\tStddev=0.02037\n"
       ]
      }
     ]
    },
    {
     "cell_type": "code",
     "collapsed": false,
     "input": [
      "grid_hyperparameters = {'C': np.logspace(-5, 5, 100), 'class_weight': ['auto', None]}\n",
      "\n",
      "def clf_factory(): return linear_model.LogisticRegression(class_weight='auto')\n",
      "\n",
      "best_clf = grid_search(clf_factory(), grid_hyperparameters, samples_train, labels_train, 10)\n",
      "\n",
      "precision, recall, f_score, area = test_model(best_clf, samples_test, labels_test, True)\n",
      "\n",
      "# plot_learning_curve() function comes from http://scikit-learn.org/stable/auto_examples/model_selection/plot_learning_curve.html#example-model-selection-plot-learning-curve-py\n",
      "%run plot_learning_curve.py\n",
      "from sklearn.cross_validation import StratifiedShuffleSplit\n",
      "cv = StratifiedShuffleSplit(labels, n_iter=5, test_size=0.3, random_state=0)\n",
      "%time plot_learning_curve(best_clf, 'Best XXXXX', samples, labels, ylim=(0, 1), cv=cv, n_jobs=-1, scoring=scoring)"
     ],
     "language": "python",
     "metadata": {},
     "outputs": []
    },
    {
     "cell_type": "code",
     "collapsed": false,
     "input": [],
     "language": "python",
     "metadata": {},
     "outputs": []
    },
    {
     "cell_type": "heading",
     "level": 2,
     "metadata": {},
     "source": [
      "SVC"
     ]
    },
    {
     "cell_type": "code",
     "collapsed": false,
     "input": [
      "#grid_hyperparameters = [{'kernel': ('linear', 'sigmoid', 'rbf'), 'C':[1, 5, 10], 'gamma':[0, 0.001, 0.1]}]\n",
      "#grid_hyperparameters = [{'kernel': ('linear', 'rbf'), 'C':[1, 5], 'gamma':[0, 0.1]}]\n",
      "#grid = GridSearchCV(SVC(), grid_hyperparameters, scoring=scoring, n_jobs=-1, cv=4)\n",
      "#\n",
      "#svc = SVC(kernel=\"poly\", degree=5) # poly takes an order parameter\n",
      "##svc = SVC(C=1, kernel=\"linear\") # one of linear, poly, rbf, sigmoid, precomputed\n",
      "\n",
      "#from sklearn.svm import SVC\n",
      "#from sklearn.grid_search import GridSearchCV\n",
      "##parameters = {'kernel': ('linear', 'sigmoid', 'rbf'), 'C':[1, 5, 10], 'gamma':[0, 0.001, 0.1]}\n",
      "#parameters = {'C':[1, 5, 10], 'gamma':[0, 0.001, 0.1]}\n",
      "#grid = GridSearchCV(SVC(kernel='poly', degree=5), parameters, scoring=scoring, n_jobs=-1, cv=4)\n",
      "#grid.fit(samples_train, labels_train)\n",
      "#grid.best_estimator_\n",
      "#grid.grid_scores_"
     ],
     "language": "python",
     "metadata": {},
     "outputs": []
    },
    {
     "cell_type": "code",
     "collapsed": false,
     "input": [
      "#grid_hyperparameters = [{'kernel': ('linear', 'sigmoid', 'rbf'), 'C':[1, 5, 10], 'gamma':[0, 0.001, 0.1]}]\n",
      "#best_clf = grid_search(SVC(), grid_hyperparameters, samples_train, labels_train, 5)\n",
      "#\n",
      "#precision, recall, f_score, area = test_model(best_clf, samples_test, labels_test, True)\n",
      "\n",
      "# plot_learning_curve() function comes from http://scikit-learn.org/stable/auto_examples/model_selection/plot_learning_curve.html#example-model-selection-plot-learning-curve-py\n",
      "#%run plot_learning_curve.py\n",
      "#from sklearn.cross_validation import StratifiedShuffleSplit\n",
      "#cv = StratifiedShuffleSplit(labels, n_iter=10, test_size=0.3, random_state=0)\n",
      "#%time plot_learning_curve(best_clf, 'K-Nearest Neighbour', samples, labels, ylim=(0, 1), cv=cv, n_jobs=-1, scoring=scoring)\n",
      "\n"
     ],
     "language": "python",
     "metadata": {},
     "outputs": []
    },
    {
     "cell_type": "code",
     "collapsed": false,
     "input": [],
     "language": "python",
     "metadata": {},
     "outputs": []
    }
   ],
   "metadata": {}
  }
 ]
}