{
 "metadata": {
  "name": "",
  "signature": "sha256:d3446a03a988872adb52b2ca2af60208d80850a7fa7179aeb44219b5ccab6170"
 },
 "nbformat": 3,
 "nbformat_minor": 0,
 "worksheets": [
  {
   "cells": [
    {
     "cell_type": "code",
     "collapsed": false,
     "input": [
      "import pandas\n",
      "import numpy\n",
      "dataset = pandas.read_csv(\"./dataset_v5.csv\")\n",
      "print 'There are %1i samples in the original dataset.' % (dataset.shape[0])\n",
      "\n",
      "target_label = 'Lbl: Poor Hosp Rating 1SD' # Target label: agencies whose rate of hospital admissions is one std dev above the mean\n",
      "\n",
      "# Strip out any rows where there is no label to train or test with\n",
      "dataset = dataset[dataset[target_label].notnull()]\n",
      "\n",
      "# keep the agency and behavior fields we're interested in (exclude outcomes that we're trying to predict, phone numbers, IDs etc)\n",
      "samples = dataset[[\n",
      "    'How often the home health team began their patients care in a timely manner',\n",
      "    'How often the home health team taught patients (or their family caregivers) about their drugs',\n",
      "    'How often the home health team checked patients risk of falling',\n",
      "    'How often the home health team checked patients for depression',\n",
      "    'How often the home health team made sure that their patients have received a flu shot for the current flu season.',\n",
      "    'How often the home health team made sure that their patients have received a pneumococcal vaccine (pneumonia shot).',\n",
      "    'With diabetes - how often the home health team got doctors orders and gave foot care and taught patients about foot care',\n",
      "    'How often the home health team checked patients for pain',\n",
      "    'How often the home health team treated their patients pain',\n",
      "    'How often the home health team took doctor-ordered action to prevent pressure sores (bed sores)',\n",
      "    'How often the home health team checked patients for the risk of developing pressure sores (bed sores)',\n",
      "]]\n",
      "\n",
      "# (1) reshape the label matrix to be flat and (2) change any true/false text into {0,1} as sklearn modules expect\n",
      "labels = numpy.reshape(dataset[target_label].astype(int), -1)\n",
      "print 'There are %1i samples in the dataset (having eliminated samples where the target label was null).' % (dataset.shape[0])\n",
      "print 'There are %1s poorly-performing agencies labelled in this dataset (label \\'%2s\\').' % ((sum(p == 1 for p in labels)), target_label)\n"
     ],
     "language": "python",
     "metadata": {},
     "outputs": [
      {
       "output_type": "stream",
       "stream": "stdout",
       "text": [
        "There are 10106 samples in the original dataset.\n",
        "There are 8965 samples in the dataset (having eliminated samples where the target label was null).\n",
        "There are 1099 poorly-performing agencies labelled in this dataset (label 'Lbl: Poor Hosp Rating 1SD')."
       ]
      },
      {
       "output_type": "stream",
       "stream": "stdout",
       "text": [
        "\n"
       ]
      }
     ],
     "prompt_number": 1
    },
    {
     "cell_type": "code",
     "collapsed": false,
     "input": [
      "from sklearn import preprocessing\n",
      "# n.b. this switches samples from a pandas DataFrame to a NumPy array\n",
      "samples = preprocessing.normalize(samples.astype(float))\n",
      "samples = preprocessing.scale(samples)"
     ],
     "language": "python",
     "metadata": {},
     "outputs": [],
     "prompt_number": 2
    },
    {
     "cell_type": "code",
     "collapsed": false,
     "input": [
      "# put test data aside\n",
      "from sklearn.cross_validation import train_test_split\n",
      "samples_train, samples_test, labels_train, labels_test = train_test_split(samples,labels, test_size=0.3, random_state=2)\n",
      "percent_train_positives = (100 * (sum(p == 1 for p in labels_train))) // samples_train.shape[0]\n",
      "percent_test_positives = (100 * (sum(p == 1 for p in labels_test))) // samples_test.shape[0]\n",
      "print 'There are %1i samples in the training dataset and %2i in the test dataset.' % (samples_train.shape[0], samples_test.shape[0])\n",
      "print 'Poor outcomes make up %1i %% of the training data and %2i %% of the test dataset.' % (percent_train_positives, percent_test_positives)"
     ],
     "language": "python",
     "metadata": {},
     "outputs": [
      {
       "output_type": "stream",
       "stream": "stdout",
       "text": [
        "There are 6275 samples in the training dataset and 2690 in the test dataset.\n",
        "Poor outcomes make up 12 % of the training data and 12 % of the test dataset.\n"
       ]
      }
     ],
     "prompt_number": 3
    },
    {
     "cell_type": "code",
     "collapsed": false,
     "input": [
      "from sklearn.cross_validation import StratifiedKFold\n",
      "from sklearn.metrics import precision_recall_fscore_support\n",
      "import numpy\n",
      "\n",
      "# Some of the ideas expressed in this method came from \"Building Machine Learning Systems with Python\" Richert W., Coelho, L., Packt 2013\n",
      "def train_model(clf, samples, labels, folds = 5, debug = False):\n",
      "    samples_df = pandas.DataFrame(samples) # more familiar working with Pandas dataframes\n",
      "    cross_validation = StratifiedKFold(labels, n_folds=folds) # Use Stratified types here due to the imbalance in the labels\n",
      "    precisions, recalls, f_scores = [], [], [] # capture metrics so we can calculate mean and std dev\n",
      "    for train, test in cross_validation:\n",
      "        samples_train, labels_train = samples_df.iloc[train], labels[train] # split out the training set for this fold\n",
      "        samples_test, labels_test = samples_df.iloc[test], labels[test]     # split out the test set for this fold\n",
      "        clf.fit(samples_train, labels_train)\n",
      "        precision, recall, f_score = test_model(clf, samples_test, labels_test, debug)\n",
      "        precisions.append(precision) \n",
      "        recalls.append(recall)\n",
      "        f_scores.append(f_score)     \n",
      "    print(\"f_score:\\t\\tMean=%.5f\\t\\tStddev=%.5f\"%(numpy.mean(f_scores), numpy.std(f_scores)))\n",
      "    print(\"recall:\\t\\t\\tMean=%.5f\\t\\tStddev=%.5f\"%(numpy.mean(recalls), numpy.std(recalls)))\n",
      "    print(\"precision:\\t\\tMean=%.5f\\t\\tStddev=%.5f\"%(numpy.mean(precisions), numpy.std(precisions)))\n",
      "\n",
      "def test_model(clf, samples_test, labels_test, debug = False):\n",
      "        predictions = clf.predict(samples_test)\n",
      "        precision, recall, f_score, support = precision_recall_fscore_support(labels_test, predictions, beta=beta)\n",
      "        # the [1] just captures the score for our minority target label, ignoring the majority label\n",
      "        if debug: print(\"f_score:\\t\\t%.5f\\nrecall:\\t\\t\\t%.5f\\nprecision:\\t\\t%.5f\" % (f_score[1], recall[1], precision[1]))\n",
      "        return precision[1], recall[1], f_score[1]"
     ],
     "language": "python",
     "metadata": {},
     "outputs": [],
     "prompt_number": 4
    },
    {
     "cell_type": "code",
     "collapsed": false,
     "input": [
      "from sklearn.grid_search import GridSearchCV\n",
      "from sklearn.metrics import fbeta_score, make_scorer\n",
      "\n",
      "beta=0.25\n",
      "scoring = make_scorer(fbeta_score, beta=beta) # favour precision over recall, but use both\n",
      "#scoring = 'precision' # same as f1\n",
      "#beta = 1              # same as f1\n",
      "\n",
      "def grid_search(clf_factory, grid_hyperparameters, samples, labels, folds = 5, scoring=scoring):\n",
      "    cross_val = StratifiedKFold(labels, n_folds=folds) # Use Stratified types here due to the imbalance in the labels\n",
      "    grid_search_with_cross_val = GridSearchCV(clf_factory, grid_hyperparameters, scoring=scoring, cv=cross_val, n_jobs=-1)\n",
      "    %time grid_search_with_cross_val.fit(samples, labels)\n",
      "    best_estimator = grid_search_with_cross_val.best_estimator_\n",
      "    print 'Best combination of hyperparameters for this classifier:'\n",
      "    print best_estimator\n",
      "    return best_estimator"
     ],
     "language": "python",
     "metadata": {},
     "outputs": [],
     "prompt_number": 5
    },
    {
     "cell_type": "code",
     "collapsed": false,
     "input": [
      "from sklearn import neighbors\n",
      "grid_hyperparameters = [{'n_neighbors' : range(1,30), 'weights' : ['uniform', 'distance']}]\n",
      "best_clf = grid_search(neighbors.KNeighborsClassifier(), grid_hyperparameters, samples_train, labels_train, 5)"
     ],
     "language": "python",
     "metadata": {},
     "outputs": [
      {
       "output_type": "stream",
       "stream": "stdout",
       "text": [
        "Wall time: 35 s\n",
        "Best combination of hyperparameters for this classifier:\n",
        "KNeighborsClassifier(algorithm='auto', leaf_size=30, metric='minkowski',\n",
        "           metric_params=None, n_neighbors=1, p=2, weights='uniform')\n"
       ]
      }
     ],
     "prompt_number": 10
    },
    {
     "cell_type": "code",
     "collapsed": false,
     "input": [
      "precision, recall, f_score = test_model(best_clf, samples_test, labels_test, True)"
     ],
     "language": "python",
     "metadata": {},
     "outputs": [
      {
       "output_type": "stream",
       "stream": "stdout",
       "text": [
        "f_score:\t\t0.07852\n",
        "recall:\t\t\t0.01183\n",
        "precision:\t\t0.12121\n"
       ]
      }
     ],
     "prompt_number": 7
    },
    {
     "cell_type": "code",
     "collapsed": false,
     "input": [
      "# special IPython command to prepare the notebook for matplotlib\n",
      "%matplotlib inline\n",
      "\n",
      "# plot_learning_curve() function comes from http://scikit-learn.org/stable/auto_examples/model_selection/plot_learning_curve.html#example-model-selection-plot-learning-curve-py\n",
      "%run plot_learning_curve.py\n",
      "from sklearn.cross_validation import StratifiedShuffleSplit\n",
      "\n",
      "def plot_learning(clf, samples, labels, title, scoring, n_iter=5, test_size=0.3, ylim=(0, 1)):\n",
      "    cross_val = StratifiedShuffleSplit(labels, n_iter, test_size, random_state=0)\n",
      "    %time plot_learning_curve(clf, title, samples, labels, ylim, cv=cross_val, n_jobs=-1, scoring=scoring)"
     ],
     "language": "python",
     "metadata": {},
     "outputs": [],
     "prompt_number": 8
    },
    {
     "cell_type": "code",
     "collapsed": false,
     "input": [
      "plot_learning(best_clf, samples, labels, 'K-Nearest Neighbour', scoring, n_iter=5, test_size=0.3)"
     ],
     "language": "python",
     "metadata": {},
     "outputs": [
      {
       "metadata": {},
       "output_type": "display_data",
       "png": "[encoded data removed]",
       "text": [
        "<matplotlib.figure.Figure at 0x12452a90>"
       ]
      },
      {
       "output_type": "stream",
       "stream": "stdout",
       "text": [
        "Wall time: 12.3 s\n"
       ]
      }
     ],
     "prompt_number": 9
    },
    {
     "cell_type": "heading",
     "level": 2,
     "metadata": {},
     "source": [
      "Conclusion"
     ]
    },
    {
     "cell_type": "markdown",
     "metadata": {},
     "source": [
      "Disappointing performance from our model so far. The learning curve suggests that more data won't fix the issue, we need a more sophisticated model. What feature engineering could we do?\n",
      "        "
     ]
    }
   ],
   "metadata": {}
  }
 ]
}