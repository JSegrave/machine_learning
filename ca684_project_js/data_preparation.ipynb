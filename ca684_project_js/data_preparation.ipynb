{
 "metadata": {
  "name": "",
  "signature": "sha256:2c10f6d295df11b553e15cc18adb119c6d6fa956235ec25f29054bdc564a0f07"
 },
 "nbformat": 3,
 "nbformat_minor": 0,
 "worksheets": [
  {
   "cells": [
    {
     "cell_type": "heading",
     "level": 1,
     "metadata": {},
     "source": [
      "Data Preparation"
     ]
    },
    {
     "cell_type": "markdown",
     "metadata": {},
     "source": []
    },
    {
     "cell_type": "markdown",
     "metadata": {},
     "source": [
      "\n"
     ]
    },
    {
     "cell_type": "markdown",
     "metadata": {},
     "source": [
      "During the data preparation stage, we had to clean up most of the blank values in the original dataset, as the scikit-learn modules would not accept null data."
     ]
    },
    {
     "cell_type": "heading",
     "level": 6,
     "metadata": {},
     "source": [
      "<table  style='width:100%'>\n",
      "<tr>\n",
      "    <td style='text-align:left; width:33%; border: hidden'>  [<< Problem Definition ](./problem_definition.ipynb)</td>\n",
      "    <td style='text-align:center; width:33%; border: hidden'> [Table of Contents](./table_of_contents.ipynb)</td>\n",
      "    <td style='text-align:right; width:33%; border: hidden'>   [Exploratory Data Analysis >> ](./exploratory_data_analysis.ipynb)</td>\n",
      "</tr>\n",
      "</table>"
     ]
    },
    {
     "cell_type": "code",
     "collapsed": false,
     "input": [],
     "language": "python",
     "metadata": {},
     "outputs": []
    }
   ],
   "metadata": {}
  }
 ]
}