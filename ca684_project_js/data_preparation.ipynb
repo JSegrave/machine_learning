{
 "metadata": {
  "name": "",
  "signature": "sha256:cc6a320341e817fde2e3234a6d20d5601fc56ae9287837a71e4ef778be63daa8"
 },
 "nbformat": 3,
 "nbformat_minor": 0,
 "worksheets": [
  {
   "cells": [
    {
     "cell_type": "heading",
     "level": 1,
     "metadata": {},
     "source": [
      "Data Preparation"
     ]
    },
    {
     "cell_type": "markdown",
     "metadata": {},
     "source": [
      "During the data preparation stage, we had to clean up most of the blank values in the original dataset, as the scikit-learn modules would not accept null data."
     ]
    },
    {
     "cell_type": "code",
     "collapsed": false,
     "input": [],
     "language": "python",
     "metadata": {},
     "outputs": []
    }
   ],
   "metadata": {}
  }
 ]
}