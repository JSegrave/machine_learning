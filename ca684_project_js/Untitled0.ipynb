{
 "metadata": {
  "name": "",
  "signature": "sha256:ca1250df380374e16c509efe1ba64a6a95add48b809384fb671a71162fea399e"
 },
 "nbformat": 3,
 "nbformat_minor": 0,
 "worksheets": [
  {
   "cells": [
    {
     "cell_type": "code",
     "collapsed": false,
     "input": [
      "# special IPython command to prepare the notebook for matplotlib\n",
      "%matplotlib inline \n",
      "\n",
      "from sklearn.cross_validation import train_test_split\n",
      "import numpy as np\n",
      "import pandas\n",
      "import matplotlib.pyplot as plt # module for plotting "
     ],
     "language": "python",
     "metadata": {},
     "outputs": [],
     "prompt_number": 506
    },
    {
     "cell_type": "code",
     "collapsed": false,
     "input": [
      "dataset_url = \"./dataset_v5.csv\"\n",
      "dataset = pandas.read_csv(dataset_url)\n",
      "print 'Total samples & features in original dataset: ' + str(dataset.shape)\n",
      "\n",
      "target_label = 'Lbl: Poor Hosp Rating 2SD'\n",
      "#target_label = 'Lbl: Poor ER Rating 2SD'\n",
      "#target_label = 'Lbl: Poor Pain Rating 2SD'\n",
      "#target_label = 'Lbl: Poor Drugs Rating 2SD'\n",
      "\n",
      "# TODO: remove\n",
      "#dataset = dataset[dataset[target_label] != 1].index # works... now how to select nulls?\n",
      "#dataset = dataset[dataset[target_label].notnull()].index # works... now how to select all the fields, not just this one?\n",
      "#dataset = dataset[dataset[target_label].notnull()] # Works :-)\n",
      "\n",
      "# Strip out any rows where there is no label to train or test with\n",
      "dataset = dataset[dataset[target_label].notnull()]\n",
      "\n",
      "# keep the agency and behavior fields we're interested in (exclude things like patient outcomes, phone numbers, addresses, etc)\n",
      "samples = dataset[[\n",
      "##    'State',\n",
      "##    'CMS Certification Number (CCN)*',\n",
      "##    'Type of Ownership',\n",
      "##    'Offers Nursing Care Services',\n",
      "##    'Offers Physical Therapy Services',\n",
      "##    'Offers Occupational Therapy Services',\n",
      "##    'Offers Speech Pathology Services',\n",
      "##    'Offers Medical Social Services',\n",
      "##    'Offers Home Health Aide Services',\n",
      "    'How often the home health team began their patients care in a timely manner',\n",
      "    'How often the home health team taught patients (or their family caregivers) about their drugs',\n",
      "    'How often the home health team checked patients risk of falling',\n",
      "    'How often the home health team checked patients for depression',\n",
      "    'How often the home health team made sure that their patients have received a flu shot for the current flu season.',\n",
      "    'How often the home health team made sure that their patients have received a pneumococcal vaccine (pneumonia shot).',\n",
      "    'With diabetes - how often the home health team got doctors orders and gave foot care and taught patients about foot care',\n",
      "    'How often the home health team checked patients for pain',\n",
      "    'How often the home health team treated their patients pain',\n",
      "    'How often the home health team took doctor-ordered action to prevent pressure sores (bed sores)',\n",
      "    'How often the home health team checked patients for the risk of developing pressure sores (bed sores)',\n",
      "    'Count of non-reported behaviours',\n",
      "    'Count of non-reported outcomes',\n",
      "##    'Non-trad Chronic'\n",
      "]]\n",
      "\n",
      "# (1) reshape the label matrix to be flat\n",
      "# (2) change the boolean {false, true} values into {0,1} as sklearn modules expect\n",
      "labels = np.reshape(dataset[target_label].astype(int), -1)\n",
      "\n",
      "print 'Target label: [' + target_label + ']'\n",
      "print 'Samples & features remaining after removing unwanted features and null target label entries: ' + str(dataset.shape)\n",
      "print 'Number of poor outcomes in the dataset: ' + str(sum(p == 1 for p in labels))\n"
     ],
     "language": "python",
     "metadata": {},
     "outputs": [
      {
       "output_type": "stream",
       "stream": "stdout",
       "text": [
        "Total samples & features in original dataset: (10106, 44)\n",
        "Target label: [Lbl: Poor Hosp Rating 2SD]\n",
        "Samples & features remaining after removing unwanted features and null target label entries: (8965, 44)\n",
        "Number of poor outcomes in the dataset: 274"
       ]
      },
      {
       "output_type": "stream",
       "stream": "stdout",
       "text": [
        "\n"
       ]
      }
     ],
     "prompt_number": 507
    },
    {
     "cell_type": "code",
     "collapsed": false,
     "input": [
      "# Pre-process to ensure all features are centered around zero and have variance in the same order, as per:\n",
      "# http://scikit-learn.org/stable/modules/preprocessing.html#preprocessing\n",
      "#   \"Many elements used in the objective function of a learning algorithm (such as the RBF kernel\n",
      "#   of Support Vector Machines or the l1 and l2 regularizers of linear models) assume that all\n",
      "#   features are centered around zero and have variance in the same order. If a feature has a\n",
      "#   variance that is orders of magnitude larger that others, it might dominate the objective\n",
      "#   function and make the estimator unable to learn from other features correctly as expected.\"\n",
      "from sklearn import preprocessing\n",
      "samples_scaled = preprocessing.scale(samples.astype(float))\n",
      "samples = samples_scaled\n"
     ],
     "language": "python",
     "metadata": {},
     "outputs": [],
     "prompt_number": 508
    },
    {
     "cell_type": "code",
     "collapsed": false,
     "input": [],
     "language": "python",
     "metadata": {},
     "outputs": [],
     "prompt_number": 508
    },
    {
     "cell_type": "code",
     "collapsed": false,
     "input": [
      "# put test data aside\n",
      "obs_train, obs_test, label_train, label_test = train_test_split(\n",
      "    samples,labels, test_size=0.5, random_state=2)\n",
      "\n",
      "print 'Samples & features in the training set: ' + str(obs_train.shape)\n",
      "print 'Number of poor outcomes in the training dataset: ' + str(sum(p == 1 for p in label_train))\n",
      "\n",
      "print 'Samples & features in the test set: ' + str(obs_test.shape)\n",
      "print 'Number of poor outcomes in the test dataset: ' + str(sum(p == 1 for p in label_test))"
     ],
     "language": "python",
     "metadata": {},
     "outputs": [
      {
       "output_type": "stream",
       "stream": "stdout",
       "text": [
        "Samples & features in the training set: (4482L, 13L)\n",
        "Number of poor outcomes in the training dataset: 144\n",
        "Samples & features in the test set: (4483L, 13L)\n",
        "Number of poor outcomes in the test dataset: 130"
       ]
      },
      {
       "output_type": "stream",
       "stream": "stdout",
       "text": [
        "\n"
       ]
      }
     ],
     "prompt_number": 509
    },
    {
     "cell_type": "code",
     "collapsed": false,
     "input": [],
     "language": "python",
     "metadata": {},
     "outputs": [],
     "prompt_number": 509
    },
    {
     "cell_type": "code",
     "collapsed": false,
     "input": [
      "# http://nbviewer.ipython.org/github/dolaameng/tutorials/blob/master/sklearn-tutorials/DECOMPOSITION%20-%20PCA%20vs%20LDA.ipynb\n",
      "\n",
      "#works for 1D but has grotty lines for 2d - TODO: convert to scatter\n",
      "markers = ['o', 'o']\n",
      "colours = ['b', 'r']\n",
      "alphas = [0.3, 0.6]\n",
      "\n",
      "# less complex\n",
      "#def plot_data_classes(xaxis, yaxis, y, title = '', xlabel = 'X', ylabel = 'Y'):\n",
      "#    plt.scatter(xaxis, yaxis, c=label_train, s = 40, cmap=plt.cm.bwr, marker ='o', alpha=0.5, edgecolors='none')\n",
      "#    plt.xlabel(xlabel)\n",
      "#    plt.ylabel(ylabel)\n",
      "#    plt.title(title)\n",
      "#    plt.legend(loc='best')\n",
      "#    plt.show()\n",
      "    \n",
      "def plot_data_classes(xaxis, yaxis, y, title = '', xlabel = 'X', ylabel = 'Y'):\n",
      "    for label, marker, colour, a in zip([0, 1], markers, colours, alphas):\n",
      "        plt.scatter(xaxis[y == label], yaxis[y == label], c=colour, s = 30, cmap=plt.cm.bwr, marker=marker, alpha=a, edgecolors='none')\n",
      "    plt.xlabel(xlabel)\n",
      "    plt.ylabel(ylabel)\n",
      "    plt.title(title)\n",
      "    plt.legend(loc='best')\n",
      "    plt.show()"
     ],
     "language": "python",
     "metadata": {},
     "outputs": [],
     "prompt_number": 556
    },
    {
     "cell_type": "code",
     "collapsed": false,
     "input": [
      "from sklearn.decomposition import PCA\n",
      "\n",
      "pca = PCA(n_components=2)\n",
      "pca_X = pca.fit_transform(obs_train)\n",
      "plot_data_classes(pca_X[:,0], pca_X[:,1], label_train, 'Principal Component Analysis (PCA)', 'Component 1', 'Component 2')\n"
     ],
     "language": "python",
     "metadata": {},
     "outputs": [
      {
       "metadata": {},
       "output_type": "display_data",
       "png": "[encoded data removed]",
       "text": [
        "<matplotlib.figure.Figure at 0x1749ca90>"
       ]
      }
     ],
     "prompt_number": 557
    },
    {
     "cell_type": "code",
     "collapsed": false,
     "input": [],
     "language": "python",
     "metadata": {},
     "outputs": [],
     "prompt_number": 533
    },
    {
     "cell_type": "code",
     "collapsed": false,
     "input": [
      "from sklearn.lda import LDA\n",
      "# from sklearn.utils import column_or_1d\n",
      "from sklearn.decomposition import PCA as sklearnPCA\n",
      "\n",
      "lda = LDA(n_components=2)\n",
      "X_lda_sklearn = lda.fit_transform(obs_train, label_train)\n",
      "\n",
      "print 'Our LDA only returns one dimension: ' + str(X_lda_sklearn.shape)\n",
      "\n",
      "# LDA has reduced the dimensions to 1, so we have to plot on a line\n",
      "# Doesn't work well anyway - the classes are not well separated \n",
      "plot_data_classes(X_lda_sklearn[:,0], np.zeros(label_train.shape), label_train, 'Linear Discriminant Analysis (LDA)', 'Component 1', 'There is no Component 2')\n"
     ],
     "language": "python",
     "metadata": {},
     "outputs": [
      {
       "output_type": "stream",
       "stream": "stdout",
       "text": [
        "Our LDA only returns one dimension: (4482L, 1L)\n"
       ]
      },
      {
       "metadata": {},
       "output_type": "display_data",
       "png": "[encoded data removed]",
       "text": [
        "<matplotlib.figure.Figure at 0x1731f400>"
       ]
      }
     ],
     "prompt_number": 558
    },
    {
     "cell_type": "code",
     "collapsed": false,
     "input": [],
     "language": "python",
     "metadata": {},
     "outputs": [],
     "prompt_number": 544
    },
    {
     "cell_type": "code",
     "collapsed": false,
     "input": [
      "# bookmark\n",
      "\n",
      "# PROPER CORSS VALIDATION\n",
      "# \n",
      "# # from http://scikit-learn.org/stable/auto_examples/feature_selection/plot_rfe_with_cross_validation.html\n",
      "# \n",
      "# from sklearn.svm import SVC\n",
      "# from sklearn.cross_validation import StratifiedKFold\n",
      "# from sklearn.feature_selection import RFECV\n",
      "# from sklearn.datasets import make_classification\n",
      "# \n",
      "# # Build a classification task using 3 informative features\n",
      "# #X, y = make_classification(n_samples=1000, n_features=25, n_informative=3,\n",
      "# #                           n_redundant=2, n_repeated=0, n_classes=8,\n",
      "# #                           n_clusters_per_class=1, random_state=0)\n",
      "# \n",
      "# X = obs_train\n",
      "# y = label_train\n",
      "# \n",
      "# # Create the RFE object and compute a cross-validated score.\n",
      "# svc = SVC(kernel=\"linear\")\n",
      "# # The \"accuracy\" scoring is proportional to the number of correct\n",
      "# # classifications\n",
      "# %time rfecv = RFECV(estimator=svc, step=1, cv=StratifiedKFold(y, 2), scoring='recall')\n",
      "# %time rfecv.fit(X, y)\n",
      "# \n",
      "# print(\"Optimal number of features : %d\" % rfecv.n_features_)\n",
      "# \n",
      "# # Plot number of features VS. cross-validation scores\n",
      "# plt.figure()\n",
      "# plt.xlabel(\"Number of features selected\")\n",
      "# plt.ylabel(\"Cross validation score (nb of correct classifications)\")\n",
      "# plt.plot(range(1, len(rfecv.grid_scores_) + 1), rfecv.grid_scores_)\n",
      "# plt.show()\n",
      "# "
     ],
     "language": "python",
     "metadata": {},
     "outputs": [],
     "prompt_number": 513
    },
    {
     "cell_type": "code",
     "collapsed": false,
     "input": [],
     "language": "python",
     "metadata": {},
     "outputs": [],
     "prompt_number": 513
    },
    {
     "cell_type": "code",
     "collapsed": false,
     "input": [],
     "language": "python",
     "metadata": {},
     "outputs": [],
     "prompt_number": 513
    },
    {
     "cell_type": "code",
     "collapsed": false,
     "input": [],
     "language": "python",
     "metadata": {},
     "outputs": [],
     "prompt_number": 513
    },
    {
     "cell_type": "code",
     "collapsed": false,
     "input": [],
     "language": "python",
     "metadata": {},
     "outputs": [],
     "prompt_number": 513
    },
    {
     "cell_type": "code",
     "collapsed": false,
     "input": [],
     "language": "python",
     "metadata": {},
     "outputs": [],
     "prompt_number": 513
    }
   ],
   "metadata": {}
  }
 ]
}