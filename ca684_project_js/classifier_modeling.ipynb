{
 "metadata": {
  "name": "",
  "signature": "sha256:c2130a424ae07f8fc51985458edb80f1d6b52ce9ceab9c3b5f7aa2bc123857e8"
 },
 "nbformat": 3,
 "nbformat_minor": 0,
 "worksheets": [
  {
   "cells": [
    {
     "cell_type": "heading",
     "level": 2,
     "metadata": {},
     "source": [
      "Classifier Modeling"
     ]
    },
    {
     "cell_type": "code",
     "collapsed": false,
     "input": [],
     "language": "python",
     "metadata": {},
     "outputs": []
    }
   ],
   "metadata": {}
  }
 ]
}