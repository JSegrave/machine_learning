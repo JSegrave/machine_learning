{
 "metadata": {
  "name": "",
  "signature": "sha256:8463fe529e79ec459e062af21a5a93b8cde9815de8411819c547d51a83cda1c0"
 },
 "nbformat": 3,
 "nbformat_minor": 0,
 "worksheets": [
  {
   "cells": [
    {
     "cell_type": "heading",
     "level": 2,
     "metadata": {},
     "source": [
      "Classifier Modelling: K-Nearest Neighbour"
     ]
    },
    {
     "cell_type": "markdown",
     "metadata": {},
     "source": [
      "Our goal is to estimate which of two classes an agency will fall into, either:\n",
      "1. Those whose patients will have high rates of hospital admission (i.e. more than one standard deviation above the mean)\n",
      "1. 'All the rest'.\n",
      "\n",
      "However, our earlier exploratory analysis provided little guidance about where to start with classifier selection as it did not identify any distribution patterns in the labels that we can exploit. e.g. there is no obvious hyperplane or decision boundary that we can model.\n",
      "\n",
      "To understand where to start, it often helps to look at the nature of the source data.  The features we are using are not continuous, they are behavioural ratings that are scored out of 100. Many are also heavily skewed towards the upper end of the range.  They are effectively a set of 100 quantised dots. Any one dot on the scatterplot can represent multiple data points - some poor performers (red) and some not (blue).  As such, there are a lot of overlapping dots, particularly where the distributions are skewed.\n",
      "\n",
      "![Alt text](./quantised_points.png \"Fig. 1: The data are quantised.\")\n",
      "\n",
      "This data is not well suited to visual inspection.  _If_ there are detectable patterns of poorly performing agencies in the data, could our eyes detect that?  Each dot on the scatterplot overwrites previous dots in the same position, so it is difficult to get an accurate visual sense of the distribution. Setting the dots to be slightly transparent _seems_ to help a little - we can identify some places where there is a mix. However, we should not trust our eyes to measure _how much_ of a mix there is (and hence whether there are any detectable patterns). Our pre-attentive visual processing for  things like colour saturation and luminosity is complex and it is easy to be misled by it.\n",
      "\n",
      "However, _if_ there are patterns of poorly performing agencies in the data, then the localised voting mechanism of a K-Nearest Neighbour classifier may be able to 'see' that pattern that our eyes cannot.\n",
      "\n",
      "So we will try out a k-nearest neighbour classifier as our initial baseline."
     ]
    },
    {
     "cell_type": "heading",
     "level": 2,
     "metadata": {},
     "source": [
      "Prepare The Data For Modelling"
     ]
    },
    {
     "cell_type": "markdown",
     "metadata": {},
     "source": [
      "As before, we:\n",
      "* Load the cleansed data.\n",
      "* Split out the target label we are interested in.\n",
      "* Remove any samples that are missing the target label (our classifier can learn nothing from these)."
     ]
    },
    {
     "cell_type": "code",
     "collapsed": false,
     "input": [
      "import pandas\n",
      "import numpy\n",
      "dataset = pandas.read_csv(\"./dataset_v5.csv\")\n",
      "print 'There are %1i samples in the original dataset.' % (dataset.shape[0])\n",
      "\n",
      "target_label = 'Lbl: Poor Hosp Rating 1SD' # Target label: agencies whose rate of hospital admissions is one std dev above the mean\n",
      "\n",
      "# Strip out any rows where there is no label to train or test with\n",
      "dataset = dataset[dataset[target_label].notnull()]\n",
      "\n",
      "# keep the agency and behavior fields we're interested in (exclude outcomes that we're trying to predict, phone numbers, IDs etc)\n",
      "samples = dataset[[\n",
      "    'How often the home health team began their patients care in a timely manner',\n",
      "    'How often the home health team taught patients (or their family caregivers) about their drugs',\n",
      "    'How often the home health team checked patients risk of falling',\n",
      "    'How often the home health team checked patients for depression',\n",
      "    'How often the home health team made sure that their patients have received a flu shot for the current flu season.',\n",
      "    'How often the home health team made sure that their patients have received a pneumococcal vaccine (pneumonia shot).',\n",
      "    'With diabetes - how often the home health team got doctors orders and gave foot care and taught patients about foot care',\n",
      "    'How often the home health team checked patients for pain',\n",
      "    'How often the home health team treated their patients pain',\n",
      "    'How often the home health team took doctor-ordered action to prevent pressure sores (bed sores)',\n",
      "    'How often the home health team checked patients for the risk of developing pressure sores (bed sores)',\n",
      "]]\n",
      "\n",
      "# (1) reshape the label matrix to be flat and (2) change any true/false text into {0,1} as sklearn modules expect\n",
      "labels = numpy.reshape(dataset[target_label].astype(int), -1)\n",
      "print 'There are %1i samples in the dataset (having eliminated samples where the target label was null).' % (dataset.shape[0])\n",
      "print 'There are %1s poorly-performing agencies labelled in this dataset (label \\'%2s\\').' % ((sum(p == 1 for p in labels)), target_label)\n"
     ],
     "language": "python",
     "metadata": {},
     "outputs": [
      {
       "output_type": "stream",
       "stream": "stdout",
       "text": [
        "There are 10106 samples in the original dataset.\n",
        "There are 8965 samples in the dataset (having eliminated samples where the target label was null).\n",
        "There are 1099 poorly-performing agencies labelled in this dataset (label 'Lbl: Poor Hosp Rating 1SD')."
       ]
      },
      {
       "output_type": "stream",
       "stream": "stdout",
       "text": [
        "\n"
       ]
      }
     ],
     "prompt_number": 1
    },
    {
     "cell_type": "heading",
     "level": 3,
     "metadata": {},
     "source": [
      "Label Balance"
     ]
    },
    {
     "cell_type": "markdown",
     "metadata": {},
     "source": [
      "We have defined the group of 'poor performers' that we wish to identify with our classifier as _\"any agency whose rating for hospital admissions is one standard deviation or more above the mean\"_. As we noted in the [Problem Definition](./problem_definition.ipynb), this makes our dataset unbalanced as can be seen by the figures above. Poor performers are in a minority - 1099 out of 8965 agencies.  In addition to the impact this has on performance metrics (discussed before), it also affects other things like how we sample our data when training, validating and testing classifiers."
     ]
    },
    {
     "cell_type": "heading",
     "level": 3,
     "metadata": {},
     "source": [
      "Scaling"
     ]
    },
    {
     "cell_type": "markdown",
     "metadata": {},
     "source": [
      "Many machine learning algorithms are not scale-invariant, so we should pre-process the features to normalise them. This will ensure they are zero-centered with variance of the same order (_reference: scikit-learn [Preprocessing](http://scikit-learn.org/stable/modules/preprocessing.html#preprocessing)_)."
     ]
    },
    {
     "cell_type": "code",
     "collapsed": false,
     "input": [
      "from sklearn import preprocessing\n",
      "# n.b. this switches samples from a pandas DataFrame to a NumPy array\n",
      "samples = preprocessing.normalize(samples.astype(float))\n",
      "samples = preprocessing.scale(samples)"
     ],
     "language": "python",
     "metadata": {},
     "outputs": [],
     "prompt_number": 2
    },
    {
     "cell_type": "heading",
     "level": 3,
     "metadata": {},
     "source": [
      "Setting Aside Testing Data for Evaluation"
     ]
    },
    {
     "cell_type": "markdown",
     "metadata": {},
     "source": [
      "To avoid over-fitting our classifier to the available data, we will break the dataset into a training set and a test set. The training set will be used to train the classifier and the test set will be held back for subsequent evaluation of the classifier's performance.\n",
      "\n",
      "**Balance**\n",
      "\n",
      "As the labels are not balanced in the dataset, we have to be careful that the train & test datasets end up with roughly similar label proportions. While many of the scikit-learn modules offer a 'stratification' option to preserve label proportions, train_test_split() does not. So we will print out the proportions (see below) to check that they roughly match."
     ]
    },
    {
     "cell_type": "code",
     "collapsed": false,
     "input": [
      "# put test data aside\n",
      "from sklearn.cross_validation import train_test_split\n",
      "samples_train, samples_test, labels_train, labels_test = train_test_split(samples,labels, test_size=0.3, random_state=2)\n",
      "percent_train_positives = (100 * (sum(p == 1 for p in labels_train))) // samples_train.shape[0]\n",
      "percent_test_positives = (100 * (sum(p == 1 for p in labels_test))) // samples_test.shape[0]\n",
      "print 'There are %1i samples in the training dataset and %2i in the test dataset.' % (samples_train.shape[0], samples_test.shape[0])\n",
      "print 'Poor outcomes make up %1i %% of the training data and %2i %% of the test dataset.' % (percent_train_positives, percent_test_positives)"
     ],
     "language": "python",
     "metadata": {},
     "outputs": [
      {
       "output_type": "stream",
       "stream": "stdout",
       "text": [
        "There are 6275 samples in the training dataset and 2690 in the test dataset.\n",
        "Poor outcomes make up 12 % of the training data and 12 % of the test dataset.\n"
       ]
      }
     ],
     "prompt_number": 3
    },
    {
     "cell_type": "heading",
     "level": 2,
     "metadata": {},
     "source": [
      "Fitting our First Classifier"
     ]
    },
    {
     "cell_type": "markdown",
     "metadata": {},
     "source": [
      "Now we can take a first look at how well K-Nearest Neighbour can do on our data. We will use the default hyperparameters to get a baseline measure of performance, i.e. five nearest neighbours. (_aside: hyperparameters are those parameters of the learning model that we set up in advance, as they are not directly learned - e.g. the number of neighbours to look at in a K-nearest neighbour model)_.\n",
      "\n",
      "We will then try to improve on that baseline by performing a grid search to identify better hyperparameters for the classifier.   Armed with better hyperparameters, we will create the corresponding classifier and test it against the test data. Finally, we will see if our model is under-fitting or over-fitting the data by  examining the classifier's learning curve."
     ]
    },
    {
     "cell_type": "heading",
     "level": 3,
     "metadata": {},
     "source": [
      "A quick reminder of our target"
     ]
    },
    {
     "cell_type": "markdown",
     "metadata": {},
     "source": [
      "Recall from the [Problem Definition](./problem_definition.ipynb) that we can significantly improve the lives of many people by _reliably_ identifying even a small number of poor-performing agencies in advance. Specifically, we are looking for _precision=0.8_ or better and _recall=0.2_ or better.  Precision is critical, because without it we'll waste inspection & training resources on agencies that would have done well for their patients anyway."
     ]
    },
    {
     "cell_type": "heading",
     "level": 3,
     "metadata": {},
     "source": [
      "Ensuring our model can generalise - Cross-Validation"
     ]
    },
    {
     "cell_type": "markdown",
     "metadata": {},
     "source": [
      "To ensure that we correctly interpret the results we get from our classifier, we will run the classifier several times against different samplings of the data (known as 'folds'). This is called 'cross-validating' our classifier and we will perform a 10-fold cross-validation.\n",
      "\n",
      "**Balance**\n",
      "\n",
      "As the classes in our dataset are unbalanced, it's important that the cross validation sampling does not create an extreme imbalance in any of the folds (e.g. a fold containing no poorly performing agencies).  To ensure this, we will use a _stratified_ cross validation rather than the default. The stratification simply ensures that each training & test set retains roughly the same proportion of labels as the original set (_reference: scikit-learn [StratifiedKFold](http://scikit-learn.org/stable/modules/generated/sklearn.cross_validation.StratifiedKFold.html)_)."
     ]
    },
    {
     "cell_type": "code",
     "collapsed": false,
     "input": [
      "from sklearn.cross_validation import StratifiedKFold\n",
      "from sklearn.metrics import precision_recall_fscore_support\n",
      "import pandas\n",
      "import numpy\n",
      "\n",
      "beta=0.25 # will be explained shortly, see the grid search section\n",
      "\n",
      "# Some of the ideas expressed in this method came from \"Building Machine Learning Systems with Python\" Richert W., Coelho, L., Packt 2013\n",
      "def train_model(clf, samples, labels, folds = 5, beta=beta, debug = False):\n",
      "    samples_df = pandas.DataFrame(samples) # more familiar working with Pandas dataframes\n",
      "    cross_validation = StratifiedKFold(labels, n_folds=folds) # Use Stratified types here due to the imbalance in the labels\n",
      "    precisions, recalls, f_scores = [], [], [] # capture metrics so we can calculate mean and std dev\n",
      "    for train, test in cross_validation:\n",
      "        samples_train, labels_train = samples_df.iloc[train], labels[train] # split out the training set for this fold\n",
      "        samples_test, labels_test = samples_df.iloc[test], labels[test]     # split out the test set for this fold\n",
      "        clf.fit(samples_train, labels_train)\n",
      "        precision, recall, f_score = test_model(clf, samples_test, labels_test, beta, debug)\n",
      "        precisions.append(precision) \n",
      "        recalls.append(recall)\n",
      "        f_scores.append(f_score)     \n",
      "    print(\"f_score:\\t\\tMean=%.5f\\t\\tStddev=%.5f\"%(numpy.mean(f_scores), numpy.std(f_scores)))\n",
      "    print(\"precision:\\t\\tMean=%.5f\\t\\tStddev=%.5f\"%(numpy.mean(precisions), numpy.std(precisions)))\n",
      "    print(\"recall:\\t\\t\\tMean=%.5f\\t\\tStddev=%.5f\"%(numpy.mean(recalls), numpy.std(recalls)))\n",
      "\n",
      "def test_model(clf, samples_test, labels_test, beta, debug = False):\n",
      "        predictions = clf.predict(samples_test)\n",
      "        precision, recall, f_score, support = precision_recall_fscore_support(labels_test, predictions, beta=beta)\n",
      "        # the [1] just captures the score for our minority target label, ignoring the majority label\n",
      "        if debug: print(\"f_score:\\t\\t%.5f\\nprecision:\\t\\t%.5f\\nrecall:\\t\\t\\t%.5f\" % (f_score[1], precision[1], recall[1]))\n",
      "        return precision[1], recall[1], f_score[1]"
     ],
     "language": "python",
     "metadata": {},
     "outputs": [],
     "prompt_number": 4
    },
    {
     "cell_type": "code",
     "collapsed": false,
     "input": [
      "from sklearn import neighbors\n",
      "train_model(neighbors.KNeighborsClassifier(n_neighbors=5), samples_train, labels_train, 10)"
     ],
     "language": "python",
     "metadata": {},
     "outputs": [
      {
       "output_type": "stream",
       "stream": "stdout",
       "text": [
        "f_score:\t\tMean=0.08786\t\tStddev=0.03964\n",
        "precision:\t\tMean=0.15005\t\tStddev=0.08394\n",
        "recall:\t\t\tMean=0.01314\t\tStddev=0.00588\n"
       ]
      }
     ],
     "prompt_number": 5
    },
    {
     "cell_type": "heading",
     "level": 4,
     "metadata": {},
     "source": [
      "Cross-Validation Results"
     ]
    },
    {
     "cell_type": "markdown",
     "metadata": {},
     "source": [
      "We now have a baseline to work from, but it's a dreadful one - the scores above mean that our baseline classifier is unable to pick out the poorly performing agencies:\n",
      "* It only identifies a tiny proportion of them (1%)\n",
      "* Those that it does identify, it nearly always gets wrong (only 15% correct)\n",
      "* Neither score is reliable (both have large standard deviations in comparison to their mean)\n",
      "\n",
      "This is poor start - clearly there are no clusters in the data that can be picked out by localised voting among the 5 Nearest Neighbours. That said, we may be able to improve on this result by finding better hyperparameters for the k-nearest neighbour algorithm."
     ]
    },
    {
     "cell_type": "heading",
     "level": 3,
     "metadata": {},
     "source": [
      "Optimising the hyperparameters - Grid Search"
     ]
    },
    {
     "cell_type": "markdown",
     "metadata": {},
     "source": [
      "To find the best hyperparameters for our model we will use the 'Exhaustive Grid Search' technique. This technique involves identifying all the different possible hyperparameters we wish to test, then training and cross-validating a classifier for every combination of those hyperparameters.  Finally, the grid search will inform us which classifier is the 'best' - i.e. which combination of hyperparameters scores best against some metric that we have defined.\n",
      "\n",
      "In this case, we will try our k-nearest neighbour classifier with anything from 1 to 30 neighbours. We'll also try weighting the neighbours (a) uniformly and (b) by the inverse of their distance from the data point being evaluated (i.e. give closer neighbours more weight).\n",
      "\n",
      "**Scoring**\n",
      "\n",
      "Using the right metric is critical to getting the business results (i.e. value) that we want from our grid search.  The default metric for grid search is 'accuracy'. As discussed before, we will replace this with the f-score metric that we developed in our [Problem Definition](./problem_definition.ipynb) - one that treats recall as being 1/4 as important to us as precision (beta = 0.25).\n",
      "\n",
      "It may be worthwhile to take another look at the '_Deriving the performance metric_' [spreadsheet](./Deriving_the_performance_metric.xlsx) or [screenshot](./Deriving_the_performance_metric.png). These show the effect of different values of f-score, precision and recall for our problem, which may help in developing an intuitive sense of how they affect the outcome.\n",
      "\n",
      "**Balance**\n",
      "\n",
      "Finally, we will use a stratified cross-validation mechanism as before. This ensures that our optimisation technique (grid search) will train classifiers on subsets of the data that retain an appropriate proportion of classes."
     ]
    },
    {
     "cell_type": "code",
     "collapsed": false,
     "input": [
      "from sklearn.grid_search import GridSearchCV\n",
      "from sklearn.metrics import fbeta_score, make_scorer\n",
      "\n",
      "# favour precision over recall, but use both\n",
      "scoring = make_scorer(fbeta_score, beta=beta) \n",
      "#scoring = 'precision' # same as f1\n",
      "#beta = 1              # same as f1\n",
      "\n",
      "def grid_search(clf_factory, grid_hyperparameters, samples, labels, folds = 5, scoring=scoring):\n",
      "    cross_val = StratifiedKFold(labels, n_folds=folds) # Use Stratified types here due to the imbalance in the labels\n",
      "    grid_search_with_cross_val = GridSearchCV(clf_factory, grid_hyperparameters, scoring=scoring, cv=cross_val, n_jobs=-1)\n",
      "    grid_search_with_cross_val.fit(samples, labels)\n",
      "    best_estimator = grid_search_with_cross_val.best_estimator_\n",
      "    print 'Best combination of hyperparameters for this classifier:'\n",
      "    return best_estimator"
     ],
     "language": "python",
     "metadata": {},
     "outputs": [],
     "prompt_number": 6
    },
    {
     "cell_type": "code",
     "collapsed": false,
     "input": [
      "grid_hyperparameters = [{'n_neighbors' : range(1, 30), 'weights' : ['uniform', 'distance']}]\n",
      "best_clf = grid_search(neighbors.KNeighborsClassifier(), grid_hyperparameters, samples_train, labels_train, 10)\n",
      "print best_clf"
     ],
     "language": "python",
     "metadata": {},
     "outputs": [
      {
       "output_type": "stream",
       "stream": "stdout",
       "text": [
        "Best combination of hyperparameters for this classifier:\n",
        "KNeighborsClassifier(algorithm='auto', leaf_size=30, metric='minkowski',\n",
        "           metric_params=None, n_neighbors=1, p=2, weights='uniform')\n"
       ]
      }
     ],
     "prompt_number": 7
    },
    {
     "cell_type": "heading",
     "level": 3,
     "metadata": {},
     "source": [
      "Grid search results"
     ]
    },
    {
     "cell_type": "markdown",
     "metadata": {},
     "source": [
      "Our grid search has now trained and cross-validated classifiers using all the possible combinations of hyperparameters that we fed it. It has identified the 'best' classifier from that set of hyperparameters - one that uses just a single nearest neighbour and a uniform distance weighting.\n",
      "\n",
      "This does not bode well - it is likely that our model will generalise poorly, as a 1-nearest-neighbour model is likely to over-fit the data. "
     ]
    },
    {
     "cell_type": "heading",
     "level": 2,
     "metadata": {},
     "source": [
      "Model Evaluation"
     ]
    },
    {
     "cell_type": "markdown",
     "metadata": {},
     "source": [
      "Now that our grid search has identified this best option, let's take a closer look at it. Firstly, we will train it using our training data and see if the variance is any better than what we saw before."
     ]
    },
    {
     "cell_type": "code",
     "collapsed": false,
     "input": [
      "train_model(best_clf, samples_train, labels_train, 10, beta)"
     ],
     "language": "python",
     "metadata": {},
     "outputs": [
      {
       "output_type": "stream",
       "stream": "stdout",
       "text": [
        "f_score:\t\tMean=0.13416\t\tStddev=0.02768\n",
        "precision:\t\tMean=0.13492\t\tStddev=0.02846\n",
        "recall:\t\t\tMean=0.12485\t\tStddev=0.01979\n"
       ]
      }
     ],
     "prompt_number": 8
    },
    {
     "cell_type": "markdown",
     "metadata": {},
     "source": [
      "Finally, we will test it against the dataset that that we held back for testing earlier on."
     ]
    },
    {
     "cell_type": "code",
     "collapsed": false,
     "input": [
      "# set dummy vars so ipython doesn't dump them to the output console\n",
      "precision, recall, f_score = test_model(best_clf, samples_test, labels_test, beta, True)"
     ],
     "language": "python",
     "metadata": {},
     "outputs": [
      {
       "output_type": "stream",
       "stream": "stdout",
       "text": [
        "f_score:\t\t0.13453\n",
        "precision:\t\t0.13620\n",
        "recall:\t\t\t0.11243\n"
       ]
      }
     ],
     "prompt_number": 9
    },
    {
     "cell_type": "heading",
     "level": 3,
     "metadata": {},
     "source": [
      "Performance on Test Set"
     ]
    },
    {
     "cell_type": "markdown",
     "metadata": {},
     "source": [
      "Our model has made some progress, but very little - the recall score has come up to 0.11 from 0.01 and the standard deviations are now much lower during training. This is still a far from usable result though - the best nearest-neighbour classifier we can get will only identify 11% of the poorly performing agencies and for those it identifies, it will be wrong 87% percent of the time.\n",
      "\n",
      "Before we move on, we need to understand what's going on with this classifier, so we have a sense of which direction to go in next.  Do we need more data points, more features, or a more sophisticated model? To understand that, we will look at this model's learning curve. "
     ]
    },
    {
     "cell_type": "heading",
     "level": 3,
     "metadata": {},
     "source": [
      "Learning Curve"
     ]
    },
    {
     "cell_type": "markdown",
     "metadata": {},
     "source": [
      "To get a sense of which direction to go in next, we can plot a learning curve - i.e. graph the change in our scoring metric during both training & cross-validation as the number of samples rises.  This can help us to understand the trade-off between bias and variance in our model - whether it is under-fitting or over-fitting the data."
     ]
    },
    {
     "cell_type": "code",
     "collapsed": false,
     "input": [
      "# special IPython command to prepare the notebook for matplotlib\n",
      "%matplotlib inline\n",
      "# plot_learning_curve() function comes from http://scikit-learn.org/stable/auto_examples/model_selection/plot_learning_curve.html#example-model-selection-plot-learning-curve-py\n",
      "%run plot_learning_curve.py"
     ],
     "language": "python",
     "metadata": {},
     "outputs": [],
     "prompt_number": 10
    },
    {
     "cell_type": "code",
     "collapsed": false,
     "input": [
      "plot_learning_curve(best_clf, '1-Nearest Neighbour', samples, labels, (0, 1), n_folds=5, scoring=scoring)"
     ],
     "language": "python",
     "metadata": {},
     "outputs": [
      {
       "metadata": {},
       "output_type": "display_data",
       "png": "[encoded data removed]",
       "text": [
        "<matplotlib.figure.Figure at 0x165fffd0>"
       ]
      }
     ],
     "prompt_number": 11
    },
    {
     "cell_type": "markdown",
     "metadata": {},
     "source": [
      "However, as we can see, the learning curve for a 1-nearest neighbour classifier is not useful, as all the training scores are 100% (each training point is its own 'perfect' nearest neighbour).\n",
      "\n",
      "So we will take a step back from our 'best' classifier and look at the learning curve for a 3-nearest neighbour instead."
     ]
    },
    {
     "cell_type": "code",
     "collapsed": false,
     "input": [
      "plot_learning_curve(neighbors.KNeighborsClassifier(n_neighbors=3), '3-Nearest Neighbour', samples, labels, (0, 1), n_folds=5, scoring=scoring)"
     ],
     "language": "python",
     "metadata": {},
     "outputs": [
      {
       "metadata": {},
       "output_type": "display_data",
       "png": "[encoded data removed]",
       "text": [
        "<matplotlib.figure.Figure at 0x168b1080>"
       ]
      }
     ],
     "prompt_number": 12
    },
    {
     "cell_type": "markdown",
     "metadata": {},
     "source": [
      "The learning curve shows that\n",
      "* There is a large gap between the training and test performance, indicating that (as we suspected) our model does not generalise well.\n",
      "* The training & test performance are not converging, which indicates that adding more data will not improve our model.\n",
      "* Neither the test nor train performance changes much as the number of samples increases, although their variance does decrease.\n",
      "* Test performance is consistently poor - there is no obvious point where it is maximised (although it seems to drop off a tiny bit above 6000 samples)."
     ]
    },
    {
     "cell_type": "heading",
     "level": 2,
     "metadata": {},
     "source": [
      "Conclusion"
     ]
    },
    {
     "cell_type": "markdown",
     "metadata": {},
     "source": [
      "The k-nearest neighbour model performs very poorly on this data. The model is biased, so adding more training points will not improve performance.  We have already tried multiple options for making the model more sophisticated (our grid search), without success.\n",
      "\n",
      "So our options now are either:\n",
      "1. See what feature engineering can be done that might improve our model.\n",
      "1. Pick a different classification algorithm\n",
      "\n",
      "In the next section, we will do both - beginning with feature engineering."
     ]
    },
    {
     "cell_type": "heading",
     "level": 6,
     "metadata": {},
     "source": [
      "<table  style='width:100%'>\n",
      "<tr>\n",
      "    <td style='text-align:left; width:33%; border: hidden'>   [<< Exploratory Data Analysis](./exploratory_data_analysis.ipynb)</td>\n",
      "    <td style='text-align:center; width:33%; border: hidden'> [Table of Contents](./table_of_contents.ipynb)</td>\n",
      "    <td style='text-align:right; width:33%; border: hidden'>  [Feature Engineering and New Models >> ](./classifier_modelling_2.ipynb)</td>\n",
      "</tr>\n",
      "</table>"
     ]
    },
    {
     "cell_type": "code",
     "collapsed": false,
     "input": [],
     "language": "python",
     "metadata": {},
     "outputs": []
    }
   ],
   "metadata": {}
  }
 ]
}