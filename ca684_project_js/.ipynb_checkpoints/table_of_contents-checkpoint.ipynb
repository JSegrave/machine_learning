{
 "metadata": {
  "name": "",
  "signature": "sha256:6f7cf507888be25d51067aa77eec1fe64ef9fcfec05bc9a327b793128bc20cb6"
 },
 "nbformat": 3,
 "nbformat_minor": 0,
 "worksheets": [
  {
   "cells": [
    {
     "cell_type": "heading",
     "level": 1,
     "metadata": {},
     "source": [
      "_Predicting the performance of Home Health Agencies in the USA_"
     ]
    },
    {
     "cell_type": "heading",
     "level": 2,
     "metadata": {},
     "source": [
      "CA684 Machine Learning Project Report"
     ]
    },
    {
     "cell_type": "markdown",
     "metadata": {},
     "source": [
      "_Disclaimer: Submitted to Dublin City University, School of Computing for module CA684: Machine Learning, 2014/2015.\n",
      "I hereby certify that the work presented and the material contained herein is my own except where explicitly stated references to other material are made._"
     ]
    },
    {
     "cell_type": "heading",
     "level": 3,
     "metadata": {},
     "source": [
      "Author:  _John Segrave_"
     ]
    },
    {
     "cell_type": "markdown",
     "metadata": {},
     "source": [
      "Available Online at: http://nbviewer.ipython.org/github/jsegrave/machine_learning/blob/master/ca684_project_js/table_of_contents.ipynb\n",
      "\n",
      "As agreed with the lecturer on Apr 8th, this project is submitted online as a set of IPython notebooks.\n",
      "\n",
      "You can also download this set of notebooks [from GitHub](https://github.com/JSegrave/machine_learning/blob/master/ca684_project_js/) and run them interactively in your own IPython Notebook."
     ]
    },
    {
     "cell_type": "heading",
     "level": 2,
     "metadata": {},
     "source": [
      "Introduction"
     ]
    },
    {
     "cell_type": "markdown",
     "metadata": {},
     "source": [
      "This set of notebooks describes a project whose  investigation into \n",
      "describes...\n",
      "_e.g. from last one... This report describes the challenges experienced in designing, acquiring data and implementing a data\n",
      "visualization that explores of Russian suicide data from 1980\u20101999. The visualisation puts the data in a global\n",
      "context, followed by a regional context and finally correlates to alcohol and GDP per capita.\n",
      "A screen\u2010cast of the visualisation is attached within the same zip file as this report, along with final source\n",
      "code and a library evaluation spreadsheet._"
     ]
    },
    {
     "cell_type": "heading",
     "level": 2,
     "metadata": {},
     "source": [
      "Contents"
     ]
    },
    {
     "cell_type": "markdown",
     "metadata": {},
     "source": [
      "* [Problem Definition](./problem_definition.ipynb)\n",
      "* [Data Preparation](./data_preparation.ipynb)\n",
      "* [Exploratory Data Analysis](./exploratory_data_analysis.ipynb)\n",
      "* [Classifier Modelling 1: Baseline Model](./classifier_modelling_1.ipynb)\n",
      "* [Classifier Modelling 2: Feature Engineering and New Models](./classifier_modelling_2.ipynb)\n",
      "* [Conclusions](./conclusions.ipynb)\n"
     ]
    },
    {
     "cell_type": "heading",
     "level": 2,
     "metadata": {},
     "source": [
      "Data and Acknowledgements"
     ]
    },
    {
     "cell_type": "markdown",
     "metadata": {},
     "source": [
      "This notebook uses the [XXX data](http://yyy) from YYY.\n",
      "\n",
      "As I am fairly new to Python, I've worked through TODO: REF the book on Amazon, hence any similarities to content in that book. All the project-relevant code here is my own, however there are a few places where I have re-used code from that book and these are clearly attributed."
     ]
    },
    {
     "cell_type": "code",
     "collapsed": false,
     "input": [],
     "language": "python",
     "metadata": {},
     "outputs": []
    }
   ],
   "metadata": {}
  }
 ]
}