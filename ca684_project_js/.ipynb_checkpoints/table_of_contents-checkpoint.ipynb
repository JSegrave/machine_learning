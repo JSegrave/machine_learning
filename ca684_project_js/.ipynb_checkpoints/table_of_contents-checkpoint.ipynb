{
 "metadata": {
  "name": "",
  "signature": "sha256:10766d7395cba71c56d25458e8591009df8b6a403232e14643b369f8564b7323"
 },
 "nbformat": 3,
 "nbformat_minor": 0,
 "worksheets": [
  {
   "cells": [
    {
     "cell_type": "heading",
     "level": 1,
     "metadata": {},
     "source": [
      "CA684 Machine Learning Project"
     ]
    },
    {
     "cell_type": "heading",
     "level": 2,
     "metadata": {},
     "source": [
      "&nbsp;&nbsp;&nbsp;&nbsp;_Predicting the performance of Home Health Agencies in the USA_"
     ]
    },
    {
     "cell_type": "markdown",
     "metadata": {},
     "source": [
      "_Disclaimer: Submitted to Dublin City University, School of Computing for module CA684: Machine Learning, 2014/2015.\n",
      "I hereby certify that the work presented and the material contained herein is my own except where explicitly stated references to other material are made_."
     ]
    },
    {
     "cell_type": "heading",
     "level": 3,
     "metadata": {},
     "source": [
      "Author:  _John Segrave_"
     ]
    },
    {
     "cell_type": "markdown",
     "metadata": {},
     "source": [
      "Available Online at: http://nbviewer.ipython.org/github/jsegrave/machine_learning/blob/master/ca684_project_js/table_of_contents.ipynb\n",
      "\n",
      "As agreed with the lecturer on Apr 8th, this project is submitted online as a set of IPython notebooks.\n",
      "\n",
      "You can also download this set of notebooks [from GitHub](https://github.com/JSegrave/machine_learning/blob/master/ca684_project_js/) and run them interactively in your own IPython Notebook."
     ]
    },
    {
     "cell_type": "heading",
     "level": 2,
     "metadata": {},
     "source": [
      "Introduction"
     ]
    },
    {
     "cell_type": "markdown",
     "metadata": {},
     "source": [
      "This project begins with a dataset, a problem and some hope.\n",
      "\n",
      "The dataset measures the everyday behaviours of staff in home-based healthcare agencies in the USA. It also measures the outcomes obtained by the patients of those agencies.  e.g. it measures how often staff check their patients for pain and how often the patients ended up in hospital.\n",
      "\n",
      "The problem is that when an agency consistently achieves poor patient outcomes, it can only be detected in arrears from the reporting data. Interventions such as training and inspections can improve the outcomes for _subsequent_ patients. However the _original_ patients still have to suffer through the poor outcomes in the first place before the problem can be detected. \n",
      "\n",
      "The hope is that, using machine learning techniques, we might be able to use the data about everyday staff behaviours to _predict_ which agencies are likely to achieve poor patient outcomes.  If any real patterns exist in the data and if our machine learning techniques can identify them, then it might be possible to intervene earlier and make a significant difference to the lives of those patients.\n",
      "\n",
      "In this set of IPython notebooks, we will explore the available healthcare data, apply machine learning techniques to it and see if any useful predictions can be made about agency performance."
     ]
    },
    {
     "cell_type": "heading",
     "level": 2,
     "metadata": {},
     "source": [
      "Contents"
     ]
    },
    {
     "cell_type": "markdown",
     "metadata": {},
     "source": [
      "* [Problem Definition](./problem_definition.ipynb)\n",
      "* [Data Preparation](./data_preparation.ipynb)\n",
      "* [Exploratory Data Analysis](./exploratory_data_analysis.ipynb)\n",
      "* [Classifier Modelling 1: Baseline Model](./classifier_modelling_1.ipynb)\n",
      "* [Classifier Modelling 2: Feature Engineering and New Models](./classifier_modelling_2.ipynb)\n",
      "* [Conclusions](./conclusions.ipynb)\n"
     ]
    },
    {
     "cell_type": "heading",
     "level": 2,
     "metadata": {},
     "source": [
      "Data and Acknowledgements"
     ]
    },
    {
     "cell_type": "markdown",
     "metadata": {},
     "source": [
      "These notebooks use the [Home Health Care Agencies](http://data.medicare.gov/Home-Health-Compare/Home-Health-Care-Agencies/6jpm-sxkc) data from the Centers for [Medicare and Medicaid Services](http://www.medicare.gov/) (CMS).  The data are in the public domain and CMS does [not require](https://data.medicare.gov/about) interested parties to obtain permission in order to use them.\n",
      "\n",
      "While working on this project, I was also reading \"Building Machine Learning Systems with Python\" Richert W., Coelho, L., _Packt_ 2013.  This was an excellent introduction to machine learning and some of the ideas and techniques were applied in these notebooks, hence any similarities. All the project-relevant code here is my own, however there are a few places where I have re-used code from that book (and also from scikit-learn). Where these occur, they have been clearly attributed."
     ]
    },
    {
     "cell_type": "code",
     "collapsed": false,
     "input": [],
     "language": "python",
     "metadata": {},
     "outputs": [],
     "prompt_number": 0
    }
   ],
   "metadata": {}
  }
 ]
}