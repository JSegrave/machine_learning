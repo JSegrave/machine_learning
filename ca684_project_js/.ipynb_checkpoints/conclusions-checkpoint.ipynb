{
 "metadata": {
  "name": "",
  "signature": "sha256:4453fd191a78b2089492d2368c4591ae43ab876f55e91ba628475b306ad1a3c5"
 },
 "nbformat": 3,
 "nbformat_minor": 0,
 "worksheets": [
  {
   "cells": [
    {
     "cell_type": "heading",
     "level": 1,
     "metadata": {},
     "source": [
      "Conclusions"
     ]
    },
    {
     "cell_type": "markdown",
     "metadata": {},
     "source": [
      "That said, the analyses to-date have only taken the numeric features of the dataset into account and not the binary features (such as _'Offers Nursing Care Services'_) or categorical ones (such as _'Type Of Ownership'_).  This was by necessity in most cases - e.g. PCA is a distance-based function and there is no meaningful distance to calculate between different _'Type Of Ownership'_ categories.  However, while the binary & categorical data may contain predictive value, it is unclear to me how to make use of them with scikit-learn - all of the examples & tutorials I've read & worked through have dealt only in numeric data.  If time allows, I may revisit this to see how to bring the binary and categorical features into play."
     ]
    },
    {
     "cell_type": "code",
     "collapsed": false,
     "input": [],
     "language": "python",
     "metadata": {},
     "outputs": []
    }
   ],
   "metadata": {}
  }
 ]
}