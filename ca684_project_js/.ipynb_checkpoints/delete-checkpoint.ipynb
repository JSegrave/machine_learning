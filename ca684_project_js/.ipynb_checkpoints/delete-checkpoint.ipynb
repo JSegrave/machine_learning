{
 "metadata": {
  "name": "",
  "signature": "sha256:2907fc91b9fd07110efec33bb87bcfed5101ecdfc5cca167778d39a76fc623da"
 },
 "nbformat": 3,
 "nbformat_minor": 0,
 "worksheets": [
  {
   "cells": [
    {
     "cell_type": "heading",
     "level": 1,
     "metadata": {},
     "source": [
      "Classifier Modeling: K-Nearest Neighbour"
     ]
    },
    {
     "cell_type": "markdown",
     "metadata": {},
     "source": [
      "Our goal is to estimate which of two classes an agency will fall into, either:\n",
      "1. Those whose patients will have high rates of hospital admission (i.e. more than one standard deviation above the mean\n",
      "1. 'All the rest'.\n",
      "\n",
      "However, our earlier exploratory analysis provides little guidance about where to start with classifier selection as it did not identify any distribution patterns in the labels that we can exploit. e.g. there is no obvious hyperplane or decision boundary that we can model.\n",
      "\n",
      "To understand where to start, it helps to look at the nature of the source data.  The features we are using are not continuous, they are behavioural ratings that are scored out of 100. Many are also heavily skewed towards the upper end of the range.  They are effectively a set of 100 quantised dots. Any one dot on the scatterplot can represent multiple data points - some poor performers (red) and some not (blue).  As such, there are a lot of overlapping dots, particularly where ther distributions are skewed.  This data is not well suited to _visual_ inspection. If each dot on the scatterplot overwrites previous dots in the same position, it is difficult to get an accurate visual sense of the distribution - as can be seen in the figure below. Seting the dots to be slightly transparent, so we can see where there is a mix, helps a little.\n",
      "\n",
      "![Alt text](./quantised_points.png \"Fig. 1: The data are quantised.\")\n",
      "\n",
      "However, _if_ there are clusters of poorly performing agencies in the data, then the localised voting mechanism of a K-Nearest Neighbour classifier may be able to 'see' that pattern that our eyes cannot.\n",
      "\n",
      "So we will start take a k-nearest neighbour classifier as our initial baseline."
     ]
    },
    {
     "cell_type": "heading",
     "level": 2,
     "metadata": {},
     "source": [
      "Prepare The Data For Modelling"
     ]
    },
    {
     "cell_type": "markdown",
     "metadata": {},
     "source": [
      "As before, we:\n",
      "* Load the cleansed data.\n",
      "* Split out the target label we are interested in.\n",
      "* Remove any samples that are missing the target label (our classifier can learn nothing from these)."
     ]
    },
    {
     "cell_type": "code",
     "collapsed": false,
     "input": [
      "import pandas\n",
      "import numpy\n",
      "dataset = pandas.read_csv(\"./dataset_v5.csv\")\n",
      "print 'There are %1i samples in the original dataset.' % (dataset.shape[0])\n",
      "\n",
      "target_label = 'Lbl: Poor Hosp Rating 1SD' # Target label: agencies whose rate of hospital admissions is one std dev above the mean\n",
      "\n",
      "# Strip out any rows where there is no label to train or test with\n",
      "dataset = dataset[dataset[target_label].notnull()]\n",
      "\n",
      "# keep the agency and behavior fields we're interested in (exclude outcomes that we're trying to predict, phone numbers, IDs etc)\n",
      "samples = dataset[[\n",
      "    'How often the home health team began their patients care in a timely manner',\n",
      "    'How often the home health team taught patients (or their family caregivers) about their drugs',\n",
      "    'How often the home health team checked patients risk of falling',\n",
      "    'How often the home health team checked patients for depression',\n",
      "    'How often the home health team made sure that their patients have received a flu shot for the current flu season.',\n",
      "    'How often the home health team made sure that their patients have received a pneumococcal vaccine (pneumonia shot).',\n",
      "    'With diabetes - how often the home health team got doctors orders and gave foot care and taught patients about foot care',\n",
      "    'How often the home health team checked patients for pain',\n",
      "    'How often the home health team treated their patients pain',\n",
      "    'How often the home health team took doctor-ordered action to prevent pressure sores (bed sores)',\n",
      "    'How often the home health team checked patients for the risk of developing pressure sores (bed sores)',\n",
      "]]\n",
      "\n",
      "# (1) reshape the label matrix to be flat and (2) change any true/false text into {0,1} as sklearn modules expect\n",
      "labels = numpy.reshape(dataset[target_label].astype(int), -1)\n",
      "print 'There are %1i samples in the dataset (having eliminated samples where the target label was null).' % (dataset.shape[0])\n",
      "print 'There are %1s poorly-performing agencies labelled in this dataset (label \\'%2s\\').' % ((sum(p == 1 for p in labels)), target_label)\n"
     ],
     "language": "python",
     "metadata": {},
     "outputs": [
      {
       "output_type": "stream",
       "stream": "stdout",
       "text": [
        "There are 10106 samples in the original dataset.\n",
        "There are 8965 samples in the dataset (having eliminated samples where the target label was null).\n",
        "There are 1099 poorly-performing agencies labelled in this dataset (label 'Lbl: Poor Hosp Rating 1SD')."
       ]
      },
      {
       "output_type": "stream",
       "stream": "stdout",
       "text": [
        "\n"
       ]
      }
     ],
     "prompt_number": 76
    },
    {
     "cell_type": "heading",
     "level": 3,
     "metadata": {},
     "source": [
      "Label Balance"
     ]
    },
    {
     "cell_type": "markdown",
     "metadata": {},
     "source": [
      "We have defined the group of 'poor performers' that we wish to identify with our classifier as _\"any agency whose rating for hospital admissions is one standard deviation or more above the mean\"_. As we noted in the [Problem Definition](./problem_definition.ipynb), this makes our dataset unbalanced as can be seen by the figures above. Poor performers are in a minority - 1099 out of 8965 agencies.  We will need to keep an eye on this, as it will affect our choice of performance metrics and means of data sampling."
     ]
    },
    {
     "cell_type": "heading",
     "level": 3,
     "metadata": {},
     "source": [
      "Scaling"
     ]
    },
    {
     "cell_type": "markdown",
     "metadata": {},
     "source": [
      "Many machine learning algorithms are not scale-invariant, so we should pre-process the features to normalise them. This will ensure they are zero-centered with variance of the same order (reference: scikit-learn [Preprocessing](http://scikit-learn.org/stable/modules/preprocessing.html#preprocessing))."
     ]
    },
    {
     "cell_type": "code",
     "collapsed": false,
     "input": [
      "from sklearn import preprocessing\n",
      "# n.b. this switches samples from a pandas DataFrame to a NumPy array\n",
      "samples = preprocessing.normalize(samples.astype(float))\n",
      "samples = preprocessing.scale(samples)"
     ],
     "language": "python",
     "metadata": {},
     "outputs": [],
     "prompt_number": 77
    },
    {
     "cell_type": "heading",
     "level": 3,
     "metadata": {},
     "source": [
      "Setting Aside Testing Data for Evaluation"
     ]
    },
    {
     "cell_type": "markdown",
     "metadata": {},
     "source": [
      "To avoid over-fitting our classifier to the availabel data, we will break the dataset into a training set and a test set. The training set will be used to train the classifier and the test set will be held back for subsequent evaluation of the classifier's performance.\n",
      "\n",
      "**Balance**\n",
      "\n",
      "As the labels are not balanced in the dataset, we have to be careful that the train & test datasets end up with roughly similar label proportions. While many of the scikit-learn modules offer a 'stratification' option to preserve label proportions, train_test_split() does not. So we will print out the proportions (see below) to check that they roughly match."
     ]
    },
    {
     "cell_type": "code",
     "collapsed": false,
     "input": [
      "# put test data aside\n",
      "from sklearn.cross_validation import train_test_split\n",
      "samples_train, samples_test, labels_train, labels_test = train_test_split(samples,labels, test_size=0.3, random_state=2)\n",
      "percent_train_positives = (100 * (sum(p == 1 for p in labels_train))) // samples_train.shape[0]\n",
      "percent_test_positives = (100 * (sum(p == 1 for p in labels_test))) // samples_test.shape[0]\n",
      "print 'There are %1i samples in the training dataset and %2i in the test dataset.' % (samples_train.shape[0], samples_test.shape[0])\n",
      "print 'Poor outcomes make up %1i %% of the training data and %2i %% of the test dataset.' % (percent_train_positives, percent_test_positives)"
     ],
     "language": "python",
     "metadata": {},
     "outputs": [
      {
       "output_type": "stream",
       "stream": "stdout",
       "text": [
        "There are 6275 samples in the training dataset and 2690 in the test dataset.\n",
        "Poor outcomes make up 12 % of the training data and 12 % of the test dataset.\n"
       ]
      }
     ],
     "prompt_number": 78
    },
    {
     "cell_type": "heading",
     "level": 2,
     "metadata": {},
     "source": [
      "Fitting our First Classifier"
     ]
    },
    {
     "cell_type": "markdown",
     "metadata": {},
     "source": [
      "Now we can take a first look at how well K-Nearest Neighbour can do on our data. We will use the default hyperparameters to get a baseline measure of performance, e.g. five nearest neighbours. (_aside: hyperparameters are those parameters of the learning model that we set up in advance, as they are not directly learned - e.g. the number of neighbours to look at in a K-nearest neighbour model)_.\n",
      "\n",
      "We will then try to improve on that baseline by performing a grid search to identify better hyperparameters for the classifier.   Armed with better hyperparameters, we will create the corresponding classifier and test it against the test data. Finally, we willsee if our model is under-fitting or over-fitting the data by  examining the classifier's learning curve."
     ]
    },
    {
     "cell_type": "heading",
     "level": 3,
     "metadata": {},
     "source": [
      "A quick reminder of our target"
     ]
    },
    {
     "cell_type": "markdown",
     "metadata": {},
     "source": [
      "Recall from the [Problem Definition](./problem_definition.ipynb) that we can significantly improve the lives of many people by _reliably_ identifying even a small number of poor-performing agencies in advance. Specifically, we are looking for _precision=0.8_ or better and _recall=0.2_ or better.  Precision is critical, because without it we'll waste inspection & training resources on agencies that would have done well for their patients anyway."
     ]
    },
    {
     "cell_type": "heading",
     "level": 3,
     "metadata": {},
     "source": [
      "Ensuring our model can generalise - Cross-Validation"
     ]
    },
    {
     "cell_type": "markdown",
     "metadata": {},
     "source": [
      "To ensure that we correctly interpret the results we get from our classifier, we will run the classifier several times against different samplings of the data (known as 'folds'). This is called 'cross-validating' our classifier and we will perform a 10-fold cross-validation.\n",
      "\n",
      "**Balance**\n",
      "\n",
      "As the classes in our dataset are unbalanced, it's important that the cross validation sampling does not create an extreme imbalance in any of the folds (e.g. a fold containing no poorly performing agencies).  To ensure this, we will use a _stratified_ cross validation rather than the default. The stratification simply ensures that each training & test set retains roughly the same proportion of labels as the original set (for more information, see [StratifiedKFold](http://scikit-learn.org/stable/modules/generated/sklearn.cross_validation.StratifiedKFold.html) and [StratifiedShuffleSplit](http://scikit-learn.org/stable/modules/generated/sklearn.cross_validation.StratifiedShuffleSplit.html))."
     ]
    },
    {
     "cell_type": "code",
     "collapsed": false,
     "input": [
      "from sklearn.cross_validation import StratifiedKFold\n",
      "from sklearn.metrics import precision_recall_fscore_support\n",
      "import numpy\n",
      "\n",
      "# Some of the ideas expressed in this method came from \"Building Machine Learning Systems with Python\" Richert W., Coelho, L., Packt 2013\n",
      "def train_model(clf, samples, labels, folds = 5, debug = False):\n",
      "    samples_df = pandas.DataFrame(samples) # more familiar working with Pandas dataframes\n",
      "    cross_validation = StratifiedKFold(labels, n_folds=folds) # Use Stratified types here due to the imbalance in the labels\n",
      "    precisions, recalls, f_scores = [], [], [] # capture metrics so we can calculate mean and std dev\n",
      "    for train, test in cross_validation:\n",
      "        samples_train, labels_train = samples_df.iloc[train], labels[train] # split out the training set for this fold\n",
      "        samples_test, labels_test = samples_df.iloc[test], labels[test]     # split out the test set for this fold\n",
      "        clf.fit(samples_train, labels_train)\n",
      "        precision, recall, f_score = test_model(clf, samples_test, labels_test, debug)\n",
      "        precisions.append(precision) \n",
      "        recalls.append(recall)\n",
      "        f_scores.append(f_score)     \n",
      "    print(\"f_score:\\t\\tMean=%.5f\\t\\tStddev=%.5f\"%(numpy.mean(f_scores), numpy.std(f_scores)))\n",
      "    print(\"recall:\\t\\t\\tMean=%.5f\\t\\tStddev=%.5f\"%(numpy.mean(recalls), numpy.std(recalls)))\n",
      "    print(\"precision:\\t\\tMean=%.5f\\t\\tStddev=%.5f\"%(numpy.mean(precisions), numpy.std(precisions)))\n",
      "\n",
      "def test_model(clf, samples_test, labels_test, debug = False):\n",
      "        predictions = clf.predict(samples_test)\n",
      "        precision, recall, f_score, support = precision_recall_fscore_support(labels_test, predictions, beta=beta)\n",
      "        # the [1] just captures the score for our minority target label, ignoring the majority label\n",
      "        if debug: print(\"f_score:\\t\\t%.5f\\nrecall:\\t\\t\\t%.5f\\nprecision:\\t\\t%.5f\" % (f_score[1], recall[1], precision[1]))\n",
      "        return precision[1], recall[1], f_score[1]"
     ],
     "language": "python",
     "metadata": {},
     "outputs": [],
     "prompt_number": 79
    },
    {
     "cell_type": "code",
     "collapsed": false,
     "input": [
      "from sklearn import neighbors\n",
      "train_model(neighbors.KNeighborsClassifier(n_neighbors=5), samples, labels, 10)"
     ],
     "language": "python",
     "metadata": {},
     "outputs": [
      {
       "output_type": "stream",
       "stream": "stdout",
       "text": [
        "f_score:\t\tMean=0.03442\t\tStddev=0.03101\n",
        "recall:\t\t\tMean=0.01456\t\tStddev=0.01299\n",
        "precision:\t\tMean=0.15066\t\tStddev=0.14511\n"
       ]
      }
     ],
     "prompt_number": 80
    },
    {
     "cell_type": "heading",
     "level": 4,
     "metadata": {},
     "source": [
      "Cross-Validation Results"
     ]
    },
    {
     "cell_type": "markdown",
     "metadata": {},
     "source": [
      "We now have a baseline to work from, but it's a dreadful one - the scores above mean that our baseline classifier is unable to pick out the poorly performing agencies:\n",
      "* It only identifies a tiny proportion of them (1%)\n",
      "* Those that it does identify, it nearly always gets wrong (only 15% correct)\n",
      "* Neither score is reliable (both have standard deviations that are nearly as large as the mean)\n",
      "\n",
      "This is poor start - it seems unlikely that there are clusters in the data that can be picked out by K-Nearest Neighbour's localised voting mechanism. That said, we may be able to improve on this result by finding better hyperparameters for the k-nearest neighbour algorithm."
     ]
    },
    {
     "cell_type": "heading",
     "level": 3,
     "metadata": {},
     "source": [
      "Optimising the hyperparameters - Grid Search"
     ]
    },
    {
     "cell_type": "markdown",
     "metadata": {},
     "source": [
      "To find the best hyperparameters for our model we will use the 'Exhaustive Grid Search' technique. This technique involves identifying all the the different possible hyperparameters we wish to test, then training and cross-validating a classifier for every combination of those hyperparameters.  Finally, the grid search will inform us which classifier is the 'best' - i.e. which combination of hyperparameters scores best against some metric that we have defined.\n",
      "\n",
      "In this case, we know our grid_hyperparameters = [{'n_neighbors' : range(1, 6), 'weights' : ['uniform', 'distance']}]\n",
      "best_clf = grid_search(neighbors.KNeighborsClassifier(), grid_hyperparameters, samples_train, labels_train, 10)\n",
      "\n",
      "**Scoring**\n",
      "One of the most important aspects of using a grid search is identifying the right metric - i.e. the one that aligns best with our business goals.  The default metric for grid search is 'accuracy', which does not align at all with our business goals or the shape of our data (we don't care about correctly identifying the majority of agencies that will perform fairly).  So we must define a different metric.\n",
      "\n",
      "As we noted above, we are looking for a metric that takes both precision and recall into account.  The f1 score does this to some extent, but it weights precision and recall equally, whereas our goal is to get precision of 0.8 or better with a recall of 0.2 or better - i.e. recall is only 0.25 as important to us as precision. We can re-define the f-score to take a 'beta' parameter that indicates how much more  importance we attach to recall than to precision (in our case we only attach 1/4 as much, or 0.25).\n",
      "\n",
      "**Balance**\n",
      "Finally, we will use a stratified cross-validation mechanism as before. This ensures that grid search trains classifiers using subsets of the data that retain the appropriate proportion of classes."
     ]
    },
    {
     "cell_type": "code",
     "collapsed": false,
     "input": [
      "from sklearn.grid_search import GridSearchCV\n",
      "from sklearn.metrics import fbeta_score, make_scorer\n",
      "\n",
      "beta=0.25\n",
      "scoring = make_scorer(fbeta_score, beta=beta) # favour precision over recall, but use both\n",
      "#scoring = 'precision' # same as f1\n",
      "#beta = 1              # same as f1\n",
      "\n",
      "def grid_search(clf_factory, grid_hyperparameters, samples, labels, folds = 5, scoring=scoring):\n",
      "    cross_val = StratifiedKFold(labels, n_folds=folds) # Use Stratified types here due to the imbalance in the labels\n",
      "    grid_search_with_cross_val = GridSearchCV(clf_factory, grid_hyperparameters, scoring=scoring, cv=cross_val, n_jobs=-1)\n",
      "    %time grid_search_with_cross_val.fit(samples, labels)\n",
      "    best_estimator = grid_search_with_cross_val.best_estimator_\n",
      "    print 'Best combination of hyperparameters for this classifier:'\n",
      "    print best_estimator\n",
      "    return best_estimator"
     ],
     "language": "python",
     "metadata": {},
     "outputs": [],
     "prompt_number": 85
    },
    {
     "cell_type": "code",
     "collapsed": false,
     "input": [
      "grid_hyperparameters = [{'n_neighbors' : range(1, 6), 'weights' : ['uniform', 'distance']}]\n",
      "best_clf = grid_search(neighbors.KNeighborsClassifier(), grid_hyperparameters, samples_train, labels_train, 10)"
     ],
     "language": "python",
     "metadata": {},
     "outputs": [
      {
       "output_type": "stream",
       "stream": "stdout",
       "text": [
        "Wall time: 7.9 s\n",
        "Best combination of hyperparameters for this classifier:\n",
        "KNeighborsClassifier(algorithm='auto', leaf_size=30, metric='minkowski',\n",
        "           metric_params=None, n_neighbors=1, p=2, weights='uniform')\n"
       ]
      }
     ],
     "prompt_number": 86
    },
    {
     "cell_type": "heading",
     "level": 3,
     "metadata": {},
     "source": [
      "Grid search results"
     ]
    },
    {
     "cell_type": "markdown",
     "metadata": {},
     "source": [
      "Our grid search \n",
      "We now have a baseline to work from, but it's a dreadful one - the scores above mean that our baseline classifier is unable to pick out the poorly performing agencies:\n",
      "* It only identifies a tiny proportion of them (1%)\n",
      "* Those that it does identify, it nearly always gets wrong (only 15% correct)\n",
      "* Neither score is reliable (both have standard deviations that are nearly as large as the mean)\n",
      "\n",
      "This is poor start - it seems unlikely that there are clusters in the data that can be picked out by K-Nearest Neighbour's localised voting mechanism. That said, we may be able to improve on this result by finding better hyperparameters for the k-nearest neighbour algorithm.\n"
     ]
    },
    {
     "cell_type": "heading",
     "level": 2,
     "metadata": {},
     "source": [
      "Model Evaluation"
     ]
    },
    {
     "cell_type": "markdown",
     "metadata": {},
     "source": [
      "Now that we've found the best estimator on the training set, let's test it against our testing set"
     ]
    },
    {
     "cell_type": "heading",
     "level": 3,
     "metadata": {},
     "source": [
      "Performance on Test Set"
     ]
    },
    {
     "cell_type": "markdown",
     "metadata": {},
     "source": []
    },
    {
     "cell_type": "code",
     "collapsed": false,
     "input": [
      "precision, recall, f_score = test_model(best_clf, samples_test, labels_test, True)"
     ],
     "language": "python",
     "metadata": {},
     "outputs": [
      {
       "output_type": "stream",
       "stream": "stdout",
       "text": [
        "f_score:\t\t0.12534\n",
        "recall:\t\t\t0.11243\n",
        "precision:\t\t0.12625\n"
       ]
      }
     ],
     "prompt_number": 82
    },
    {
     "cell_type": "markdown",
     "metadata": {},
     "source": [
      "TODO - unfortunately, we have made negligible progress -  grid search has identified that the best precision score we can get with KNN is (TODO check hasn't changed) 4% and with minuscule recall - so it will find a tiny number of positives and even then, it will almost always get them wrong.\n",
      "\n",
      "As noted before, even a small precision value like 20% would produce good results as long as recall is sufficiently high (say 80% or above).  It's time to try another classifier..."
     ]
    },
    {
     "cell_type": "heading",
     "level": 3,
     "metadata": {},
     "source": [
      "Learning Curve"
     ]
    },
    {
     "cell_type": "markdown",
     "metadata": {},
     "source": [
      "bias or variance?\n",
      "Mention decision boundary & how there's no real way to visualise it in this case\t\t\t"
     ]
    },
    {
     "cell_type": "markdown",
     "metadata": {},
     "source": [
      "TODO: Finally, examine the learning curve for this optimised classifier to determine if we are under-fitting or over-fitting the data.  Clearly, this model is heavily biased (TODO: explain why via the graph - see \"This is a typical bias/variance plot\" and \"Illustration of Learning Curves\" [here](http://www.astro.washington.edu/users/vanderplas/Astr599/notebooks/18_IntermediateSklearn)). time to try another a classifier..."
     ]
    },
    {
     "cell_type": "code",
     "collapsed": false,
     "input": [
      "# special IPython command to prepare the notebook for matplotlib\n",
      "%matplotlib inline\n",
      "\n",
      "# plot_learning_curve() function comes from http://scikit-learn.org/stable/auto_examples/model_selection/plot_learning_curve.html#example-model-selection-plot-learning-curve-py\n",
      "%run plot_learning_curve.py\n",
      "from sklearn.cross_validation import StratifiedShuffleSplit\n",
      "\n",
      "def plot_learning(clf, samples, labels, title, scoring, n_iter=5, test_size=0.3, ylim=(0, 1)):\n",
      "    cross_val = StratifiedShuffleSplit(labels, n_iter, test_size, random_state=0)\n",
      "    %time plot_learning_curve(clf, title, samples, labels, ylim, cv=cross_val, n_jobs=-1, scoring=scoring)"
     ],
     "language": "python",
     "metadata": {},
     "outputs": [],
     "prompt_number": 83
    },
    {
     "cell_type": "code",
     "collapsed": false,
     "input": [
      "plot_learning(best_clf, samples, labels, 'K-Nearest Neighbour', scoring, n_iter=5, test_size=0.3)"
     ],
     "language": "python",
     "metadata": {},
     "outputs": [
      {
       "metadata": {},
       "output_type": "display_data",
       "png": "[encoded data removed]",
       "text": [
        "<matplotlib.figure.Figure at 0x12026438>"
       ]
      },
      {
       "output_type": "stream",
       "stream": "stdout",
       "text": [
        "Wall time: 4.74 s\n"
       ]
      }
     ],
     "prompt_number": 84
    },
    {
     "cell_type": "heading",
     "level": 2,
     "metadata": {},
     "source": [
      "Conclusion"
     ]
    },
    {
     "cell_type": "markdown",
     "metadata": {},
     "source": [
      "Disappointing performance from our model so far. The learning curve suggests that more data won't fix the issue, we need a more sophisticated model. What feature engineering could we do?\n",
      "        "
     ]
    }
   ],
   "metadata": {}
  }
 ]
}