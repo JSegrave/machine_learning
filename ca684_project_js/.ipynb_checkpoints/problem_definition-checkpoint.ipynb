{
 "metadata": {
  "name": "",
  "signature": "sha256:bb98dc01fa7ecc7ed559ff6134aef6de8ad35af836e0394dbb2de29e0c21fdf5"
 },
 "nbformat": 3,
 "nbformat_minor": 0,
 "worksheets": [
  {
   "cells": [
    {
     "cell_type": "heading",
     "level": 1,
     "metadata": {},
     "source": [
      "Problem Definition"
     ]
    },
    {
     "cell_type": "code",
     "collapsed": false,
     "input": [],
     "language": "python",
     "metadata": {},
     "outputs": []
    }
   ],
   "metadata": {}
  }
 ]
}