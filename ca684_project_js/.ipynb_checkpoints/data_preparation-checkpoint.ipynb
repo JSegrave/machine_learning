{
 "metadata": {
  "name": "",
  "signature": "sha256:51569462d97ce243cffdf20a4a96c58837289bcb25b540022e6c38dff6ef63e8"
 },
 "nbformat": 3,
 "nbformat_minor": 0,
 "worksheets": [
  {
   "cells": [
    {
     "cell_type": "heading",
     "level": 1,
     "metadata": {},
     "source": [
      "Data Preparation"
     ]
    },
    {
     "cell_type": "markdown",
     "metadata": {},
     "source": []
    },
    {
     "cell_type": "markdown",
     "metadata": {},
     "source": [
      "\n"
     ]
    },
    {
     "cell_type": "markdown",
     "metadata": {},
     "source": [
      "During the data preparation stage, we had to clean up most of the blank values in the original dataset, as the scikit-learn modules would not accept null data."
     ]
    },
    {
     "cell_type": "markdown",
     "metadata": {},
     "source": [
      "<table  style='width:100%'>\n",
      "<tr>\n",
      "    <td style='text-align:left; width:33%; border: hidden'>  [<< Problem Definition ](./problem_definition.ipynb)</td>\n",
      "    <td style='text-align:center; width:33%; border: hidden'> [Table of Contents](./table_of_contents.ipynb)</td>\n",
      "    <td style='text-align:right; width:33%; border: hidden'>   [Exploratory Data Analysis >> ](./exploratory_data_analysis.ipynb)</td>\n",
      "</tr>\n",
      "</table>"
     ]
    }
   ],
   "metadata": {}
  }
 ]
}