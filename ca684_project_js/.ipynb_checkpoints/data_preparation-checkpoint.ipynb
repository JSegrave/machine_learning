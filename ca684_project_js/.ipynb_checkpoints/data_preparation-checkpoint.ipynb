{
 "metadata": {
  "name": "",
  "signature": "sha256:c4362d86213b750bd94f5d9fd8810fd2cbb6d258ff45512c06df679ec4f30fbd"
 },
 "nbformat": 3,
 "nbformat_minor": 0,
 "worksheets": [
  {
   "cells": [
    {
     "cell_type": "heading",
     "level": 1,
     "metadata": {},
     "source": [
      "Data Preparation"
     ]
    },
    {
     "cell_type": "markdown",
     "metadata": {},
     "source": [
      "During the data preparation stage, we had to clean up most of the blank values in the original dataset, as the scikit-learn modules would not accept null data."
     ]
    },
    {
     "cell_type": "code",
     "collapsed": false,
     "input": [],
     "language": "python",
     "metadata": {},
     "outputs": []
    },
    {
     "cell_type": "code",
     "collapsed": false,
     "input": [],
     "language": "python",
     "metadata": {},
     "outputs": []
    },
    {
     "cell_type": "markdown",
     "metadata": {},
     "source": [
      "<table  style='width:100%'>\n",
      "<tr>\n",
      "    <td style='text-align:left; width:33%; border: hidden'>  [<< Problem Definition ](./problem_definition.ipynb)</td>\n",
      "    <td style='text-align:center; width:33%; border: hidden'> [Table of Contents](./table_of_contents.ipynb)</td>\n",
      "    <td style='text-align:right; width:33%; border: hidden'>   [Exploratory Data Analysis >> ](./exploratory_data_analysis.ipynb)</td>\n",
      "</tr>\n",
      "</table>"
     ]
    },
    {
     "cell_type": "code",
     "collapsed": false,
     "input": [],
     "language": "python",
     "metadata": {},
     "outputs": []
    }
   ],
   "metadata": {}
  }
 ]
}