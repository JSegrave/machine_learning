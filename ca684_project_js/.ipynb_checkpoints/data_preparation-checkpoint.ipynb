{
 "metadata": {
  "name": "",
  "signature": "sha256:597faf8842e8aa203b4cab64ac3752a91dc98f503d40f38109aeb6af46c16f55"
 },
 "nbformat": 3,
 "nbformat_minor": 0,
 "worksheets": [
  {
   "cells": [
    {
     "cell_type": "heading",
     "level": 1,
     "metadata": {},
     "source": [
      "Data Preparation"
     ]
    },
    {
     "cell_type": "heading",
     "level": 2,
     "metadata": {},
     "source": [
      "Data Source and Features"
     ]
    },
    {
     "cell_type": "markdown",
     "metadata": {},
     "source": [
      "The data used for this project are the [Home Health Care Agencies](http://data.medicare.gov/Home-Health-Compare/Home-Health-Care-Agencies/6jpm-sxkc) data from the Centers for [Medicare and Medicaid Services](http://www.medicare.gov/) (CMS).  CMS uses this data to drive their [Home Health Compare](http://www.medicare.gov/homehealthcompare/compare.html#cmprTab=0&vwgrph=1&cmprID=367787%2C367401&stsltd=OH&loc=45802&lat=40.7111378&lng=-84.1665942) website that enables citizens to compare the performance of the home health agencies in their area.\n",
      "\n",
      "The data are in the public domain and permission is not required to re-use them (see [reference](https://data.medicare.gov/about))."
     ]
    },
    {
     "cell_type": "markdown",
     "metadata": {},
     "source": [
      "For each agency, the dataset contains information about that agency's behaviour, the outcomes that were achieved by its patients and some other administrative data about the agency (such as address, unique ID, phone number, etc).\n",
      "\n",
      "The behavioural data includes the following 13 features (described in more detail on the CMS site [here](http://www.medicare.gov/HomeHealthCompare/About/Preventing-Harm.html)):\n",
      "* _How often the home health team began their patients' care in a timely manner_\n",
      "* _How often the home health team taught patients (or their family caregivers) about their drugs_\n",
      "* _How often the home health team checked patients' risk of falling_\n",
      "* _How often the home health team checked patients for depression_\n",
      "* _How often the home health team made sure that their patients have received a flu shot for the current flu season._\n",
      "* _How often the home health team made sure that their patients have received a pneumococcal vaccine (pneumonia shot)._\n",
      "* _With diabetes, how often the home health team got doctor's orders, gave foot care, and taught patients about foot care_\n",
      "* _How often the home health team checked patients for pain_\n",
      "* _How often the home health team treated their patients' pain_\n",
      "* _How often the home health team treated heart failure (weakening of the heart) patients' symptoms_\n",
      "* _How often the home health team took doctor-ordered action to prevent pressure sores (bed sores)_\n",
      "* _How often the home health team included treatments to prevent pressure sores (bed sores) in the plan of care_\n",
      "* _How often the home health team checked patients for the risk of developing pressure sores (bed sores)_\n",
      "\n",
      "The outcome data includes the following 9 features (described in more detail on the CMS site [here](http://www.medicare.gov/HomeHealthCompare/About/Preventing-Unplanned-Care.html)):\n",
      "* _How often patients got better at walking or moving around_\n",
      "* _How often patients got better at getting in and out of bed_\n",
      "* _How often patients got better at bathing_\n",
      "* _How often patients had less pain when moving around_\n",
      "* _How often patients' breathing improved_\n",
      "* _How often patients' wounds improved or healed after an operation_\n",
      "* _How often patients got better at taking their drugs correctly by mouth_\n",
      "* _How often patients receiving home health care needed urgent, unplanned care in the ER without being admitted_\n",
      "* _How often home health patients had to be admitted to the hospital_\n",
      "\n",
      "In addition to which it includes:\n",
      "* 6 types of named services that an agency can offer: Nursing Care, Physical Therapy, Occupational Therapy, Speech Pathology, Medical Social and Home Health Aide Services.\n",
      "* A range of administrative fields such as: _State, CCN (an ID), Provider Name, Address, City, Zip, Phone, Type of Ownership, Date Certified_\n",
      "* Each field contains a corresponding _footnote_ field (however the majority of these fields are empty)"
     ]
    },
    {
     "cell_type": "heading",
     "level": 2,
     "metadata": {},
     "source": [
      "Measures and Values"
     ]
    },
    {
     "cell_type": "markdown",
     "metadata": {},
     "source": [
      "Each of the behavioural and outcome features is recorded as a value between 0 and 100. It was quite difficult to find information on the CMS site describing what these values mean. However, two useful sources were ultimately found elsewhere:\n",
      "\n",
      "1. _\"Process Measures can tell you how often a home health care agency gave the recommended care such as checking patients for depression at the beginning of an episode of care. A rate of 90% means that the home care agency provided the recommended process 90% of their episodes of care. Outcome Measures report on the results of the care the agency provided. For example, by the end of an episode of care, did the patient's ability to ambulate improve? A rate of 88% means that the agency achieved that outcome in 88% of their episodes of care.\"_  [ from http://www.homehealthcareagencies.com/resources/medicare-quality-data/ ]\n",
      "\n",
      "1. ['Home Health Performance Rankings Limitations and Considerations'](http://healthinsight.org/rankings/home-health/131-rankings/246-home-health-performance-rankings-limitations-and-considerations) is a document that describes the data in slightly more detail, pointing out some of its strengths and limitations.  For example, that _'the quality measures are risk-adjusted to account for the fact that some agencies treat sicker patients'_.\n",
      "\n",
      "In all - the term 'how often' in the above feature names apprears to mean _\"in what percentage of that agency's 'quality episodes of care' was behaviour X observed or outcome Y obtained\"_. A 'quality episode of care' here refers to a care engagement with a patient that both began and ended with some kind of formal assessment. The assessments then act as a 'before' & 'after' milestone, so that progress can be evaluated objectively."
     ]
    },
    {
     "cell_type": "heading",
     "level": 2,
     "metadata": {},
     "source": [
      "Data Cleansing"
     ]
    },
    {
     "cell_type": "markdown",
     "metadata": {},
     "source": [
      "The following transformations were required on the data before it could be analysed or fed to scikit-learn algorithms:\n",
      " * All non-delimiting comma characters, apostrophes and a few other characters had to be removed from the source .csv file as some python  modules could not process them while these were present.\n",
      " * The address, provider name and phone number fields were removed to anonymize the data, as discussed in the Ethics section.\n",
      " * In some cases, the footnotes fields for some of the features identified that _'This agency provides services to a special needs population'_. This text was transformed into an additional feature in the dataset: 'Special Needs' (yes/no).\n",
      " \n",
      "There were also a large number of unreported measures (features with high numbers of blank values) - commonly 16-30% of the total data.\n",
      "* Analysis showed that a significant chunk of these were from the agencies that were marked \"special needs\". Almost none of these were reporting any measurements at all, only those in New York were consistently reporting, so all 1212 \"special needs\" rows were removed as it was clear the data could say nothing useful about them.  This is a pity, as it would be interesting to see how agencies that deal with people who have \"special needs\" fare (in comparison to other types of agencies).\n",
      "* Further analysis showed that agencies that did not report \"How often the home health team checked patients for the risk of developing pressure sores (bed sores)\" typically reported little or nothing, so again, these agencies were excluded (982 samples). This is a real pity as pressure sores are horrible to live with, but easily prevented - so it would have been very interesting to have had some outcome data to see if basic prevention checks such as this one are good predictors of other types of outcome.\n",
      "* _\"How often patients wounds improved or healed after an operation\"_ and \"_How often the home health team treated heart failure (weakening of the heart) patients' symptoms_\" were both removed, as they were missing from over 50% of the data each.\n",
      "\n",
      "There were still plenty of missing values, particularly on the behavioural features - e.g. on the 'getting doctors orders', there was 12-16% non reporting. Most of the scikit-learn algorithms used would not accept these blank values, so they had to be imputed (to be the same value as the mean). This is covered more in the [Data Analysis](./exploratory_data_analysis.ipynb) section - see the _Principal Component Analysis_ for more details."
     ]
    },
    {
     "cell_type": "heading",
     "level": 2,
     "metadata": {},
     "source": [
      "Label Creation"
     ]
    },
    {
     "cell_type": "markdown",
     "metadata": {},
     "source": [
      "Finally, the target labels were created in the dataset. Any sample whose hospital admissions were more than the \"mean plus one standard deviation\" was labelled as a poor performing agency.  Similar labels were also added for ER admission, improvements in pain and improvements in ability to take their medicines correctly by mouth, as these may form another interesting investigation in the future."
     ]
    },
    {
     "cell_type": "heading",
     "level": 6,
     "metadata": {},
     "source": [
      "<table  style='width:100%'>\n",
      "<tr>\n",
      "    <td style='text-align:left; width:33%; border: hidden'>  [<< Problem Definition ](./problem_definition.ipynb)</td>\n",
      "    <td style='text-align:center; width:33%; border: hidden'> [Table of Contents](./table_of_contents.ipynb)</td>\n",
      "    <td style='text-align:right; width:33%; border: hidden'>   [Exploratory Data Analysis >> ](./exploratory_data_analysis.ipynb)</td>\n",
      "</tr>\n",
      "</table>"
     ]
    },
    {
     "cell_type": "code",
     "collapsed": false,
     "input": [],
     "language": "python",
     "metadata": {},
     "outputs": []
    }
   ],
   "metadata": {}
  }
 ]
}