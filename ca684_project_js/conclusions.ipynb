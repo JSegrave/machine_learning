{
 "metadata": {
  "name": "",
  "signature": "sha256:3450703fa0d25fc1e5cfbbeae541890eb62a4b6ae3a47a47e76b6f70dd93c900"
 },
 "nbformat": 3,
 "nbformat_minor": 0,
 "worksheets": [
  {
   "cells": [
    {
     "cell_type": "heading",
     "level": 1,
     "metadata": {},
     "source": [
      "Conclusions"
     ]
    },
    {
     "cell_type": "markdown",
     "metadata": {},
     "source": [
      "That said, the analyses to-date have only taken the numeric features of the dataset into account and not the binary features (such as _'Offers Nursing Care Services'_) or categorical ones (such as _'Type Of Ownership'_).  This was by necessity in most cases - e.g. PCA is a distance-based function and there is no meaningful distance to calculate between different _'Type Of Ownership'_ categories.  However, while the binary & categorical data may contain predictive value, it is unclear to me how to make use of them with scikit-learn - all of the examples & tutorials I've read & worked through have dealt only in numeric data.  If time allows, I may revisit this to see how to bring the binary and categorical features into play."
     ]
    },
    {
     "cell_type": "markdown",
     "metadata": {},
     "source": [
      "Of the two objectives of the project - the business goal was not met, but the learning goal certanly was. Indeed, the lack of an easy answer to the business question prompted many investigations that might otherwise not have been necessary, so the learning was very good."
     ]
    },
    {
     "cell_type": "code",
     "collapsed": false,
     "input": [],
     "language": "python",
     "metadata": {},
     "outputs": []
    },
    {
     "cell_type": "markdown",
     "metadata": {},
     "source": [
      "<table  style='width:100%'>\n",
      "<tr>\n",
      "    <td style='text-align:left; width:33%; border: hidden'>  [Feature Engineering and New Models >> ](./classifier_modelling_2.ipynb)\n",
      "    <td style='text-align:center; width:33%; border: hidden'> </td>\n",
      "    <td style='text-align:right; width:33%; border: hidden'>  [Table of Contents >> ](./table_of_contents.ipynb)</td>\n",
      "</tr>\n",
      "</table>"
     ]
    }
   ],
   "metadata": {}
  }
 ]
}