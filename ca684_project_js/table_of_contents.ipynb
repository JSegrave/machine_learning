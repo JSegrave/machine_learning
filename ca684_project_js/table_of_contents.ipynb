{
 "metadata": {
  "name": "",
  "signature": "sha256:ec5ddc29371b87161090466db2b13f904c058354882ec0d2fd49c101a7b92a36"
 },
 "nbformat": 3,
 "nbformat_minor": 0,
 "worksheets": [
  {
   "cells": [
    {
     "cell_type": "heading",
     "level": 1,
     "metadata": {},
     "source": [
      "_Predicting the performance of US-based Home Health Agencies_"
     ]
    },
    {
     "cell_type": "heading",
     "level": 2,
     "metadata": {},
     "source": [
      "CA684 Machine Learning Project Report"
     ]
    },
    {
     "cell_type": "markdown",
     "metadata": {},
     "source": [
      "_Disclaimer: Submitted to Dublin City University, School of Computing for module CA684: Machine Learning, 2014/2015.\n",
      "I hereby certify that the work presented and the material contained herein is my own except where explicitly stated references to other material are made._"
     ]
    },
    {
     "cell_type": "heading",
     "level": 3,
     "metadata": {},
     "source": [
      "Author:  _John Segrave_"
     ]
    },
    {
     "cell_type": "markdown",
     "metadata": {},
     "source": [
      "Available Online at: http://nbviewer.ipython.org/github/jsegrave/machine_learning/blob/master/ca684_project_js/table_of_contents.ipynb\n",
      "\n",
      "You can also download this set of notebooks [from GitHub](https://github.com/JSegrave/machine_learning/blob/master/ca684_project_js/) and run them interactively in your own IPython Notebook."
     ]
    },
    {
     "cell_type": "heading",
     "level": 2,
     "metadata": {},
     "source": [
      "Introduction"
     ]
    },
    {
     "cell_type": "markdown",
     "metadata": {},
     "source": [
      "This report describes..."
     ]
    },
    {
     "cell_type": "heading",
     "level": 2,
     "metadata": {},
     "source": [
      "Table of Contents"
     ]
    },
    {
     "cell_type": "markdown",
     "metadata": {},
     "source": [
      "* Problem Definition\n",
      "* Data Acquisition\n",
      "* Data Preparation\n",
      "* [Exploratory Data Analysis](./exploratory_data_analysis.ipynb)\n",
      "* Classifier Modeling"
     ]
    },
    {
     "cell_type": "heading",
     "level": 2,
     "metadata": {},
     "source": [
      "Data and Acknowledgements"
     ]
    },
    {
     "cell_type": "markdown",
     "metadata": {},
     "source": [
      "This notebook uses the [XXX data](http://yyy) from YYY.\n",
      "\n",
      "As I am fairly new to Python, I've worked through TODO: REF the book on Amazon, hence any similarities to content in that book. All the project-relevant code here is my own, however there are a few places where I have re-used code from that book and these are clearly attributed."
     ]
    },
    {
     "cell_type": "code",
     "collapsed": false,
     "input": [],
     "language": "python",
     "metadata": {},
     "outputs": []
    }
   ],
   "metadata": {}
  }
 ]
}