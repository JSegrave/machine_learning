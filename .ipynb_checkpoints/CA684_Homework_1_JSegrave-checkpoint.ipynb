{
 "metadata": {
  "name": "",
  "signature": "sha256:cfb16655350225541629e80276209fe0bda946ddb9a96e727e32b167a144f538"
 },
 "nbformat": 3,
 "nbformat_minor": 0,
 "worksheets": [
  {
   "cells": [
    {
     "cell_type": "heading",
     "level": 1,
     "metadata": {},
     "source": [
      "CA684 Homework 1"
     ]
    },
    {
     "cell_type": "heading",
     "level": 2,
     "metadata": {},
     "source": [
      "Homework Assignment"
     ]
    },
    {
     "cell_type": "markdown",
     "metadata": {},
     "source": [
      "* Pick two classifiers and study the relation between the empirical error frequency and the sample size n.\n",
      "* Make a plot of the mean empirical error frequency (over k simulations) versus n, with error bars for one standard deviation.\n",
      "\n",
      "*n.b. since the empirical error frequency is not comparable between a trial where n=5 and one where n=75, I will plot the accuracy (normalised error frequency) instead.*"
     ]
    },
    {
     "cell_type": "heading",
     "level": 2,
     "metadata": {},
     "source": [
      "Interactive Notebook"
     ]
    },
    {
     "cell_type": "markdown",
     "metadata": {},
     "source": [
      "You can [download this notebook](https://github.com/JSegrave/machine_learning/blob/master/CA684_Homework_1_JSegrave.ipynb) and run it interactively in your own IPython Notebook.\n",
      "\n",
      "Alternatively, you can view this notebook online (but non-interavtively) [here](http://nbviewer.ipython.org/github/jsegrave/machine_learning/blob/master/CA684_Homework_1_JSegrave.ipynb)."
     ]
    },
    {
     "cell_type": "heading",
     "level": 2,
     "metadata": {},
     "source": [
      "Data and Acknowledgements"
     ]
    },
    {
     "cell_type": "markdown",
     "metadata": {},
     "source": [
      "This notebook uses the [Iris data](http://scikit-learn.org/stable/auto_examples/datasets/plot_iris_dataset.html) from scikit-learn.datasets.\n",
      "\n",
      "As this is my first time using Python, I'm also using this homework to run through Jake VanderPlas' [PyCon 2014 Scikit-learn Tutorial](https://github.com/jakevdp/sklearn_pycon2014), hence any similarities to content in that tutorial. All the homework-relevant code here is my own, however there are a few places (e.g. the opening data exploration scatterplot) where I have re-used Jake's code."
     ]
    },
    {
     "cell_type": "heading",
     "level": 2,
     "metadata": {},
     "source": [
      "1. Exploring the data"
     ]
    },
    {
     "cell_type": "heading",
     "level": 6,
     "metadata": {},
     "source": [
      "Grab the Iris data and have a preliminary look at what's in it"
     ]
    },
    {
     "cell_type": "code",
     "collapsed": false,
     "input": [
      "%matplotlib inline\n",
      "import numpy as np\n",
      "from sklearn.datasets import load_iris\n",
      "from sklearn.cross_validation import train_test_split\n",
      "\n",
      "# Grab the data & have a look at what's in it\n",
      "dataset = load_iris()\n",
      "print dataset.keys()\n",
      "print dataset.data.shape\n",
      "print dataset.feature_names\n",
      "print dataset.target_names"
     ],
     "language": "python",
     "metadata": {},
     "outputs": [
      {
       "output_type": "stream",
       "stream": "stdout",
       "text": [
        "['target_names', 'data', 'target', 'DESCR', 'feature_names']\n",
        "(150L, 4L)\n",
        "['sepal length (cm)', 'sepal width (cm)', 'petal length (cm)', 'petal width (cm)']\n",
        "['setosa' 'versicolor' 'virginica']\n"
       ]
      }
     ],
     "prompt_number": 10
    },
    {
     "cell_type": "heading",
     "level": 6,
     "metadata": {},
     "source": [
      "Look at the data by label (re-using Jake's code here)"
     ]
    },
    {
     "cell_type": "code",
     "collapsed": false,
     "input": [
      "%matplotlib inline\n",
      "import matplotlib.pyplot as plt\n",
      "\n",
      "def explore_dataplot(x_index, y_index):\n",
      "    formatter = plt.FuncFormatter(lambda i, *args: dataset.target_names[int(i)])\n",
      "    \n",
      "    # SET UP A PLOT\n",
      "    plt.figure(1)\n",
      "    plt.scatter(dataset.data[:, x_index], dataset.data[:, y_index], c=dataset.target)\n",
      "    plt.colorbar(ticks=[0,1,2], format=formatter)\n",
      "    \n",
      "    # ADD AXES\n",
      "    plt.xlabel(dataset.feature_names[x_index])\n",
      "    plt.ylabel(dataset.feature_names[y_index])\n",
      "\n",
      "explore_dataplot(2 , 3)"
     ],
     "language": "python",
     "metadata": {},
     "outputs": [
      {
       "metadata": {},
       "output_type": "display_data",
       "png": "[encoded data removed]",
       "text": [
        "<matplotlib.figure.Figure at 0x3479898>"
       ]
      }
     ],
     "prompt_number": 11
    },
    {
     "cell_type": "heading",
     "level": 2,
     "metadata": {},
     "source": [
      "2. Functions to run simulations and gather quality metrics "
     ]
    },
    {
     "cell_type": "heading",
     "level": 3,
     "metadata": {},
     "source": [
      "Some admin..."
     ]
    },
    {
     "cell_type": "markdown",
     "metadata": {},
     "source": [
      "We start off by identifying the sizes of n (sample size) for which we'll run simulations - from n=5 to n=75 in steps of 5, with 10 simulations at each step."
     ]
    },
    {
     "cell_type": "code",
     "collapsed": false,
     "input": [
      "import numpy as np\n",
      "min_n = 5 # minimum n\n",
      "max_n = 75 # maximumn (because the Iris dataset has 150 samples, so 75 is as big as we can get for exclusive train & test sets)\n",
      "n_step_size = 5 # walk through the values of n in steps of 5\n",
      "n_sizes = np.linspace(min_n, max_n, ((max_n - min_n)/n_step_size)+1, dtype='int') # the actual steps implied by the above figures\n",
      "num_steps = np.alen(n_sizes) # the number of steps\n",
      "k_simulations = 10\n"
     ],
     "language": "python",
     "metadata": {},
     "outputs": [],
     "prompt_number": 12
    },
    {
     "cell_type": "heading",
     "level": 3,
     "metadata": {},
     "source": [
      "Running one simulation"
     ]
    },
    {
     "cell_type": "markdown",
     "metadata": {},
     "source": [
      "Next we create a function that can run one simulation for a given estimator (classifier) and fixed training & test size.  The simulation will:\n",
      "* Split the dataset into training and testing sets of size n, with each sample randomly selected from the overall dataset.\n",
      "* Fit the classifier to the randomly-sampled training data\n",
      "* Test the classifier on the randomly-sampled test data\n",
      "* Return a quality measure - in this case accuracy_score (we could just as easily use precision_score, recall_score, or f1_score)."
     ]
    },
    {
     "cell_type": "code",
     "collapsed": false,
     "input": [
      "# Simulate for a fixed training & test size n and return a quality measure\n",
      "def run_one_simulation(n, estimator):\n",
      "\n",
      "    # The important thing in this loop is train_test_split().\n",
      "    # The loop is just defensive coding because the classifier will blow up\n",
      "    # if a random sample happens to only contain one target class (happens a\n",
      "    # lot with small samples). The loop just checks for that and re-samples\n",
      "    # until it gets at least two target classes.\n",
      "    while True:\n",
      "        # Break the test & training up into randomly-selected chunks of size n\n",
      "        x_train, x_test, y_train, y_test = \\\n",
      "            train_test_split(dataset.data, dataset.target, train_size=n, test_size=n)\n",
      "        if len(np.unique(y_train)) > 1:\n",
      "            break\n",
      "\n",
      "    # fit the classifier to the randomly-sampled training data\n",
      "    estimator.fit(x_train, y_train)\n",
      "    # test the classifier on the randomly-sampled test data\n",
      "    predictions = estimator.predict(x_test)\n",
      "\n",
      "    # (for debugging) Print precision, recall and f1-score metrics\n",
      "    from sklearn import metrics\n",
      "    #print \"##########    FOR n = \" + str(n) + \"    ##########\" # (debugging)\n",
      "    #print metrics.classification_report(y_test, predictions, target_names=dataset.target_names) # (debugging)\n",
      "    \n",
      "    # Return a quality measure - either accuracy_score, precision_score, recall_score, or f1_score\n",
      "    # note to self: accuracy = np.sum(y_test == predictions) * (1. / len(y_test))\n",
      "    measure = metrics.accuracy_score(y_test, predictions)\n",
      "    return measure\n"
     ],
     "language": "python",
     "metadata": {},
     "outputs": [],
     "prompt_number": 13
    },
    {
     "cell_type": "heading",
     "level": 3,
     "metadata": {},
     "source": [
      "Running all simulations"
     ]
    },
    {
     "cell_type": "markdown",
     "metadata": {},
     "source": [
      "Next we create a function that can run all simulations for a given estimator (classifier). This function will:\n",
      "* Iterate through the possible sizes of n (e.g. n=5, 10, 15, ...)\n",
      "* For each size of n (say n=20), run k simulations\n",
      "* Collect a quality measure (e.g. accuracy) from each simulation run\n",
      "* Compute the mean and standard deviation of the quality measure for all simulation runs (per size of n)"
     ]
    },
    {
     "cell_type": "code",
     "collapsed": false,
     "input": [
      "# Run all simulations for the given estimator (classifier)\n",
      "def run_all_simulations(estimator):\n",
      "\n",
      "    # Capture the mean quality measures for each size of n\n",
      "    mean_quality_for_each_n = []\n",
      "    stdev_quality_for_each_n = []\n",
      "    \n",
      "    # for different sizes of n, run some simulations\n",
      "    for n in n_sizes:\n",
      "    \n",
      "        # Capture the quality measure for all simulation runs\n",
      "        quality_for_each_simulation = []\n",
      "    \n",
      "        # Run k simulations for each size of n\n",
      "        for k in range(0, k_simulations):\n",
      "            quality_measure = run_one_simulation(n, estimator)\n",
      "            quality_for_each_simulation.append(quality_measure)\n",
      "            #print \"Quality measure: \" + str(quality_measure) # (debugging)\n",
      "    \n",
      "        # Get the mean of the quality measures over the K simulation runs\n",
      "        mean_quality_for_this_simulation = np.mean(quality_for_each_simulation)\n",
      "        stdev_quality_for_this_simulation = np.std(quality_for_each_simulation)\n",
      "        #print \"Mean  : \" + str(mean_quality_for_this_simulation) # (debugging)\n",
      "        #print \"StDev : \" + str(stdev_quality_for_this_simulation) # (debugging)\n",
      "        mean_quality_for_each_n.append(mean_quality_for_this_simulation)\n",
      "        stdev_quality_for_each_n.append(stdev_quality_for_this_simulation)\n",
      "    \n",
      "    # (debugging) Look at the overall quality measure values for each n\n",
      "    #print \"Mean  : \" + str(mean_quality_for_each_n) # (debugging)\n",
      "    #print \"StDev : \" + str(stdev_quality_for_each_n) # (debugging)\n",
      "    return mean_quality_for_each_n, stdev_quality_for_each_n\n"
     ],
     "language": "python",
     "metadata": {},
     "outputs": [],
     "prompt_number": 14
    },
    {
     "cell_type": "heading",
     "level": 2,
     "metadata": {},
     "source": [
      "3. Run the simulations against two estimators (classifiers)"
     ]
    },
    {
     "cell_type": "heading",
     "level": 3,
     "metadata": {},
     "source": [
      "Support Vector Machine"
     ]
    },
    {
     "cell_type": "heading",
     "level": 6,
     "metadata": {},
     "source": [
      "Kick the simulations off and capture the quality measures"
     ]
    },
    {
     "cell_type": "code",
     "collapsed": false,
     "input": [
      "from sklearn.svm import SVC\n",
      "svm_mean_quality_for_each_n, svm_stdev_quality_for_each_n = run_all_simulations(SVC(kernel='linear', probability=True))"
     ],
     "language": "python",
     "metadata": {},
     "outputs": [],
     "prompt_number": 15
    },
    {
     "cell_type": "heading",
     "level": 6,
     "metadata": {},
     "source": [
      "Plot the mean accuracy (over k simulations) versus n, with error bars for one standard deviation."
     ]
    },
    {
     "cell_type": "code",
     "collapsed": false,
     "input": [
      "%matplotlib inline\n",
      "import matplotlib.pyplot as plt\n",
      "ind = np.arange(num_steps)\n",
      "width = 0.5\n",
      "plt.figure(2)\n",
      "plt.bar(ind, svm_mean_quality_for_each_n, width, color='b', yerr=svm_stdev_quality_for_each_n, ecolor='r', alpha=0.5)\n",
      "plt.axis([0, num_steps, 0, 1])\n",
      "plt.title('Support Vector Machine - accuracy on Iris Data')\n",
      "plt.xlabel('Number of training & testing samples')\n",
      "plt.ylabel('Accuracy\\n(averaged over ' + str(k_simulations) + ' simulations)')\n",
      "plt.xticks(ind+width/2., np.ndarray.tolist(n_sizes))\n"
     ],
     "language": "python",
     "metadata": {},
     "outputs": [
      {
       "metadata": {},
       "output_type": "pyout",
       "prompt_number": 16,
       "text": [
        "([<matplotlib.axis.XTick at 0x15c981d0>,\n",
        "  <matplotlib.axis.XTick at 0x15c98a20>,\n",
        "  <matplotlib.axis.XTick at 0x15b10ba8>,\n",
        "  <matplotlib.axis.XTick at 0x15de7be0>,\n",
        "  <matplotlib.axis.XTick at 0x15df2278>,\n",
        "  <matplotlib.axis.XTick at 0x15df28d0>,\n",
        "  <matplotlib.axis.XTick at 0x15df2f28>,\n",
        "  <matplotlib.axis.XTick at 0x15dff5c0>,\n",
        "  <matplotlib.axis.XTick at 0x15dffc18>,\n",
        "  <matplotlib.axis.XTick at 0x15e0a2b0>,\n",
        "  <matplotlib.axis.XTick at 0x15e0a908>,\n",
        "  <matplotlib.axis.XTick at 0x15e0af60>,\n",
        "  <matplotlib.axis.XTick at 0x15e955f8>,\n",
        "  <matplotlib.axis.XTick at 0x15e95c50>,\n",
        "  <matplotlib.axis.XTick at 0x15ea22e8>],\n",
        " <a list of 15 Text xticklabel objects>)"
       ]
      },
      {
       "metadata": {},
       "output_type": "display_data",
       "png": "[encoded data removed]",
       "text": [
        "<matplotlib.figure.Figure at 0x1509fbe0>"
       ]
      }
     ],
     "prompt_number": 16
    },
    {
     "cell_type": "heading",
     "level": 3,
     "metadata": {},
     "source": [
      "K-Nearest Neighbours"
     ]
    },
    {
     "cell_type": "heading",
     "level": 6,
     "metadata": {},
     "source": [
      "Kick the simulations off and capture the quality measures"
     ]
    },
    {
     "cell_type": "code",
     "collapsed": false,
     "input": [
      "from sklearn import neighbors\n",
      "knn_mean_quality_for_each_n, knn_stdev_quality_for_each_n = run_all_simulations(neighbors.KNeighborsClassifier(n_neighbors=1))"
     ],
     "language": "python",
     "metadata": {},
     "outputs": [],
     "prompt_number": 17
    },
    {
     "cell_type": "heading",
     "level": 6,
     "metadata": {},
     "source": [
      "Plot the mean accuracy (over k simulations) versus n, with error bars for one standard deviation."
     ]
    },
    {
     "cell_type": "code",
     "collapsed": false,
     "input": [
      "%matplotlib inline\n",
      "import matplotlib.pyplot as plt\n",
      "ind = np.arange(num_steps)\n",
      "width = 0.5\n",
      "plt.figure(3)\n",
      "plt.bar(ind, knn_mean_quality_for_each_n, width, color='g', yerr=knn_stdev_quality_for_each_n, ecolor='r', alpha=0.5)\n",
      "plt.axis([0, num_steps, 0, 1])\n",
      "plt.title('K-Nearest Neighbors - accuracy on Iris Data')\n",
      "plt.xlabel('Number of training & testing samples')\n",
      "plt.ylabel('Accuracy\\n(averaged over ' + str(k_simulations) + ' simulations)')\n",
      "plt.xticks(ind+width/2., np.ndarray.tolist(n_sizes))\n"
     ],
     "language": "python",
     "metadata": {},
     "outputs": [
      {
       "metadata": {},
       "output_type": "pyout",
       "prompt_number": 18,
       "text": [
        "([<matplotlib.axis.XTick at 0x156d96a0>,\n",
        "  <matplotlib.axis.XTick at 0x15649278>,\n",
        "  <matplotlib.axis.XTick at 0x158c98d0>,\n",
        "  <matplotlib.axis.XTick at 0x15a1bb70>,\n",
        "  <matplotlib.axis.XTick at 0x15a1be48>,\n",
        "  <matplotlib.axis.XTick at 0x15adc390>,\n",
        "  <matplotlib.axis.XTick at 0x15adc898>,\n",
        "  <matplotlib.axis.XTick at 0x15a03d30>,\n",
        "  <matplotlib.axis.XTick at 0x15a032b0>,\n",
        "  <matplotlib.axis.XTick at 0x158940f0>,\n",
        "  <matplotlib.axis.XTick at 0x15894ba8>,\n",
        "  <matplotlib.axis.XTick at 0x15894550>,\n",
        "  <matplotlib.axis.XTick at 0x15be8d30>,\n",
        "  <matplotlib.axis.XTick at 0x15be8400>,\n",
        "  <matplotlib.axis.XTick at 0x16ec1710>],\n",
        " <a list of 15 Text xticklabel objects>)"
       ]
      },
      {
       "metadata": {},
       "output_type": "display_data",
       "png": "[encoded data removed]",
       "text": [
        "<matplotlib.figure.Figure at 0x15e0ac88>"
       ]
      }
     ],
     "prompt_number": 18
    },
    {
     "cell_type": "heading",
     "level": 2,
     "metadata": {},
     "source": [
      "Conclusions"
     ]
    },
    {
     "cell_type": "markdown",
     "metadata": {},
     "source": [
      "Looking at the these results, two points stand out:\n",
      "1. The accuracy of both classifiers rises surprisingly quickly as the number of samples (n) increases. After only 10 samples, the accuracy is pretty good and after 20, it has reached its maximum.\n",
      "1. 'More data' does not equal 'better quality'. The accuracy plateaus very quickly, after which, adding more training data doesn't add any meaningful value. In fact in some simulations, accuracy even decrease slightly for some larger values of n."
     ]
    },
    {
     "cell_type": "code",
     "collapsed": false,
     "input": [],
     "language": "python",
     "metadata": {},
     "outputs": []
    }
   ],
   "metadata": {}
  }
 ]
}